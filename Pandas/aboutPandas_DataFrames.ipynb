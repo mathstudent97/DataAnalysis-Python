{
 "cells": [
  {
   "cell_type": "code",
   "execution_count": 1,
   "id": "global-indie",
   "metadata": {},
   "outputs": [],
   "source": [
    "import numpy as np\n",
    "import pandas as pd"
   ]
  },
  {
   "cell_type": "code",
   "execution_count": 2,
   "id": "cathedral-powell",
   "metadata": {},
   "outputs": [],
   "source": [
    "df = pd.DataFrame({\n",
    "    'Population': [35.467, 63.951, 80.94, 60.665, 127.061, 64.511, 318.523],\n",
    "    'GDP': [\n",
    "        1785387,\n",
    "        2833687,\n",
    "        3874437,\n",
    "        2167744,\n",
    "        4602367,\n",
    "        2950039,\n",
    "        17348075   \n",
    "    ],\n",
    "    'Surface Area': [\n",
    "        9984670,\n",
    "        640679,\n",
    "        357114,\n",
    "        301336,\n",
    "        377930,\n",
    "        242495,\n",
    "        9525067\n",
    "    ],\n",
    "    'HDI': [\n",
    "        0.913,\n",
    "        0.888,\n",
    "        0.916,\n",
    "        0.873,\n",
    "        0.891,\n",
    "        0.907,\n",
    "        0.915\n",
    "    ],\n",
    "    'Continent': [\n",
    "        'America',\n",
    "        'Europe',\n",
    "        'Europe',\n",
    "        'Europe',\n",
    "        'Asia',\n",
    "        'Europe',\n",
    "        'America'\n",
    "    ]\n",
    "}, columns=['Population', 'GDP', 'Surface Area', 'HDI', 'Continent'])"
   ]
  },
  {
   "cell_type": "code",
   "execution_count": 3,
   "id": "pleased-guess",
   "metadata": {},
   "outputs": [
    {
     "data": {
      "text/html": [
       "<div>\n",
       "<style scoped>\n",
       "    .dataframe tbody tr th:only-of-type {\n",
       "        vertical-align: middle;\n",
       "    }\n",
       "\n",
       "    .dataframe tbody tr th {\n",
       "        vertical-align: top;\n",
       "    }\n",
       "\n",
       "    .dataframe thead th {\n",
       "        text-align: right;\n",
       "    }\n",
       "</style>\n",
       "<table border=\"1\" class=\"dataframe\">\n",
       "  <thead>\n",
       "    <tr style=\"text-align: right;\">\n",
       "      <th></th>\n",
       "      <th>Population</th>\n",
       "      <th>GDP</th>\n",
       "      <th>Surface Area</th>\n",
       "      <th>HDI</th>\n",
       "      <th>Continent</th>\n",
       "    </tr>\n",
       "  </thead>\n",
       "  <tbody>\n",
       "    <tr>\n",
       "      <th>0</th>\n",
       "      <td>35.467</td>\n",
       "      <td>1785387</td>\n",
       "      <td>9984670</td>\n",
       "      <td>0.913</td>\n",
       "      <td>America</td>\n",
       "    </tr>\n",
       "    <tr>\n",
       "      <th>1</th>\n",
       "      <td>63.951</td>\n",
       "      <td>2833687</td>\n",
       "      <td>640679</td>\n",
       "      <td>0.888</td>\n",
       "      <td>Europe</td>\n",
       "    </tr>\n",
       "    <tr>\n",
       "      <th>2</th>\n",
       "      <td>80.940</td>\n",
       "      <td>3874437</td>\n",
       "      <td>357114</td>\n",
       "      <td>0.916</td>\n",
       "      <td>Europe</td>\n",
       "    </tr>\n",
       "    <tr>\n",
       "      <th>3</th>\n",
       "      <td>60.665</td>\n",
       "      <td>2167744</td>\n",
       "      <td>301336</td>\n",
       "      <td>0.873</td>\n",
       "      <td>Europe</td>\n",
       "    </tr>\n",
       "    <tr>\n",
       "      <th>4</th>\n",
       "      <td>127.061</td>\n",
       "      <td>4602367</td>\n",
       "      <td>377930</td>\n",
       "      <td>0.891</td>\n",
       "      <td>Asia</td>\n",
       "    </tr>\n",
       "    <tr>\n",
       "      <th>5</th>\n",
       "      <td>64.511</td>\n",
       "      <td>2950039</td>\n",
       "      <td>242495</td>\n",
       "      <td>0.907</td>\n",
       "      <td>Europe</td>\n",
       "    </tr>\n",
       "    <tr>\n",
       "      <th>6</th>\n",
       "      <td>318.523</td>\n",
       "      <td>17348075</td>\n",
       "      <td>9525067</td>\n",
       "      <td>0.915</td>\n",
       "      <td>America</td>\n",
       "    </tr>\n",
       "  </tbody>\n",
       "</table>\n",
       "</div>"
      ],
      "text/plain": [
       "   Population       GDP  Surface Area    HDI Continent\n",
       "0      35.467   1785387       9984670  0.913   America\n",
       "1      63.951   2833687        640679  0.888    Europe\n",
       "2      80.940   3874437        357114  0.916    Europe\n",
       "3      60.665   2167744        301336  0.873    Europe\n",
       "4     127.061   4602367        377930  0.891      Asia\n",
       "5      64.511   2950039        242495  0.907    Europe\n",
       "6     318.523  17348075       9525067  0.915   America"
      ]
     },
     "execution_count": 3,
     "metadata": {},
     "output_type": "execute_result"
    }
   ],
   "source": [
    "df"
   ]
  },
  {
   "cell_type": "code",
   "execution_count": 4,
   "id": "laden-orlando",
   "metadata": {},
   "outputs": [],
   "source": [
    "df.index = [\n",
    "    'Canada',\n",
    "    'France',\n",
    "    'Germany',\n",
    "    'Italy',\n",
    "    'Japan',\n",
    "    'UK',\n",
    "    'US'\n",
    "]"
   ]
  },
  {
   "cell_type": "code",
   "execution_count": 5,
   "id": "mental-genre",
   "metadata": {},
   "outputs": [
    {
     "data": {
      "text/html": [
       "<div>\n",
       "<style scoped>\n",
       "    .dataframe tbody tr th:only-of-type {\n",
       "        vertical-align: middle;\n",
       "    }\n",
       "\n",
       "    .dataframe tbody tr th {\n",
       "        vertical-align: top;\n",
       "    }\n",
       "\n",
       "    .dataframe thead th {\n",
       "        text-align: right;\n",
       "    }\n",
       "</style>\n",
       "<table border=\"1\" class=\"dataframe\">\n",
       "  <thead>\n",
       "    <tr style=\"text-align: right;\">\n",
       "      <th></th>\n",
       "      <th>Population</th>\n",
       "      <th>GDP</th>\n",
       "      <th>Surface Area</th>\n",
       "      <th>HDI</th>\n",
       "      <th>Continent</th>\n",
       "    </tr>\n",
       "  </thead>\n",
       "  <tbody>\n",
       "    <tr>\n",
       "      <th>Canada</th>\n",
       "      <td>35.467</td>\n",
       "      <td>1785387</td>\n",
       "      <td>9984670</td>\n",
       "      <td>0.913</td>\n",
       "      <td>America</td>\n",
       "    </tr>\n",
       "    <tr>\n",
       "      <th>France</th>\n",
       "      <td>63.951</td>\n",
       "      <td>2833687</td>\n",
       "      <td>640679</td>\n",
       "      <td>0.888</td>\n",
       "      <td>Europe</td>\n",
       "    </tr>\n",
       "    <tr>\n",
       "      <th>Germany</th>\n",
       "      <td>80.940</td>\n",
       "      <td>3874437</td>\n",
       "      <td>357114</td>\n",
       "      <td>0.916</td>\n",
       "      <td>Europe</td>\n",
       "    </tr>\n",
       "    <tr>\n",
       "      <th>Italy</th>\n",
       "      <td>60.665</td>\n",
       "      <td>2167744</td>\n",
       "      <td>301336</td>\n",
       "      <td>0.873</td>\n",
       "      <td>Europe</td>\n",
       "    </tr>\n",
       "    <tr>\n",
       "      <th>Japan</th>\n",
       "      <td>127.061</td>\n",
       "      <td>4602367</td>\n",
       "      <td>377930</td>\n",
       "      <td>0.891</td>\n",
       "      <td>Asia</td>\n",
       "    </tr>\n",
       "    <tr>\n",
       "      <th>UK</th>\n",
       "      <td>64.511</td>\n",
       "      <td>2950039</td>\n",
       "      <td>242495</td>\n",
       "      <td>0.907</td>\n",
       "      <td>Europe</td>\n",
       "    </tr>\n",
       "    <tr>\n",
       "      <th>US</th>\n",
       "      <td>318.523</td>\n",
       "      <td>17348075</td>\n",
       "      <td>9525067</td>\n",
       "      <td>0.915</td>\n",
       "      <td>America</td>\n",
       "    </tr>\n",
       "  </tbody>\n",
       "</table>\n",
       "</div>"
      ],
      "text/plain": [
       "         Population       GDP  Surface Area    HDI Continent\n",
       "Canada       35.467   1785387       9984670  0.913   America\n",
       "France       63.951   2833687        640679  0.888    Europe\n",
       "Germany      80.940   3874437        357114  0.916    Europe\n",
       "Italy        60.665   2167744        301336  0.873    Europe\n",
       "Japan       127.061   4602367        377930  0.891      Asia\n",
       "UK           64.511   2950039        242495  0.907    Europe\n",
       "US          318.523  17348075       9525067  0.915   America"
      ]
     },
     "execution_count": 5,
     "metadata": {},
     "output_type": "execute_result"
    }
   ],
   "source": [
    "df"
   ]
  },
  {
   "cell_type": "code",
   "execution_count": 6,
   "id": "recent-attachment",
   "metadata": {},
   "outputs": [
    {
     "data": {
      "text/plain": [
       "Index(['Canada', 'France', 'Germany', 'Italy', 'Japan', 'UK', 'US'], dtype='object')"
      ]
     },
     "execution_count": 6,
     "metadata": {},
     "output_type": "execute_result"
    }
   ],
   "source": [
    "df.index"
   ]
  },
  {
   "cell_type": "code",
   "execution_count": 7,
   "id": "frequent-viking",
   "metadata": {},
   "outputs": [
    {
     "name": "stdout",
     "output_type": "stream",
     "text": [
      "<class 'pandas.core.frame.DataFrame'>\n",
      "Index: 7 entries, Canada to US\n",
      "Data columns (total 5 columns):\n",
      " #   Column        Non-Null Count  Dtype  \n",
      "---  ------        --------------  -----  \n",
      " 0   Population    7 non-null      float64\n",
      " 1   GDP           7 non-null      int64  \n",
      " 2   Surface Area  7 non-null      int64  \n",
      " 3   HDI           7 non-null      float64\n",
      " 4   Continent     7 non-null      object \n",
      "dtypes: float64(2), int64(2), object(1)\n",
      "memory usage: 280.0+ bytes\n"
     ]
    }
   ],
   "source": [
    "df.info()"
   ]
  },
  {
   "cell_type": "code",
   "execution_count": 8,
   "id": "extraordinary-champion",
   "metadata": {},
   "outputs": [
    {
     "data": {
      "text/plain": [
       "35"
      ]
     },
     "execution_count": 8,
     "metadata": {},
     "output_type": "execute_result"
    }
   ],
   "source": [
    "df.size"
   ]
  },
  {
   "cell_type": "code",
   "execution_count": 10,
   "id": "exciting-holder",
   "metadata": {},
   "outputs": [
    {
     "data": {
      "text/plain": [
       "(7, 5)"
      ]
     },
     "execution_count": 10,
     "metadata": {},
     "output_type": "execute_result"
    }
   ],
   "source": [
    "df.shape"
   ]
  },
  {
   "cell_type": "code",
   "execution_count": 11,
   "id": "signal-pittsburgh",
   "metadata": {},
   "outputs": [
    {
     "data": {
      "text/html": [
       "<div>\n",
       "<style scoped>\n",
       "    .dataframe tbody tr th:only-of-type {\n",
       "        vertical-align: middle;\n",
       "    }\n",
       "\n",
       "    .dataframe tbody tr th {\n",
       "        vertical-align: top;\n",
       "    }\n",
       "\n",
       "    .dataframe thead th {\n",
       "        text-align: right;\n",
       "    }\n",
       "</style>\n",
       "<table border=\"1\" class=\"dataframe\">\n",
       "  <thead>\n",
       "    <tr style=\"text-align: right;\">\n",
       "      <th></th>\n",
       "      <th>Population</th>\n",
       "      <th>GDP</th>\n",
       "      <th>Surface Area</th>\n",
       "      <th>HDI</th>\n",
       "    </tr>\n",
       "  </thead>\n",
       "  <tbody>\n",
       "    <tr>\n",
       "      <th>count</th>\n",
       "      <td>7.000000</td>\n",
       "      <td>7.000000e+00</td>\n",
       "      <td>7.000000e+00</td>\n",
       "      <td>7.000000</td>\n",
       "    </tr>\n",
       "    <tr>\n",
       "      <th>mean</th>\n",
       "      <td>107.302571</td>\n",
       "      <td>5.080248e+06</td>\n",
       "      <td>3.061327e+06</td>\n",
       "      <td>0.900429</td>\n",
       "    </tr>\n",
       "    <tr>\n",
       "      <th>std</th>\n",
       "      <td>97.249970</td>\n",
       "      <td>5.494020e+06</td>\n",
       "      <td>4.576187e+06</td>\n",
       "      <td>0.016592</td>\n",
       "    </tr>\n",
       "    <tr>\n",
       "      <th>min</th>\n",
       "      <td>35.467000</td>\n",
       "      <td>1.785387e+06</td>\n",
       "      <td>2.424950e+05</td>\n",
       "      <td>0.873000</td>\n",
       "    </tr>\n",
       "    <tr>\n",
       "      <th>25%</th>\n",
       "      <td>62.308000</td>\n",
       "      <td>2.500716e+06</td>\n",
       "      <td>3.292250e+05</td>\n",
       "      <td>0.889500</td>\n",
       "    </tr>\n",
       "    <tr>\n",
       "      <th>50%</th>\n",
       "      <td>64.511000</td>\n",
       "      <td>2.950039e+06</td>\n",
       "      <td>3.779300e+05</td>\n",
       "      <td>0.907000</td>\n",
       "    </tr>\n",
       "    <tr>\n",
       "      <th>75%</th>\n",
       "      <td>104.000500</td>\n",
       "      <td>4.238402e+06</td>\n",
       "      <td>5.082873e+06</td>\n",
       "      <td>0.914000</td>\n",
       "    </tr>\n",
       "    <tr>\n",
       "      <th>max</th>\n",
       "      <td>318.523000</td>\n",
       "      <td>1.734808e+07</td>\n",
       "      <td>9.984670e+06</td>\n",
       "      <td>0.916000</td>\n",
       "    </tr>\n",
       "  </tbody>\n",
       "</table>\n",
       "</div>"
      ],
      "text/plain": [
       "       Population           GDP  Surface Area       HDI\n",
       "count    7.000000  7.000000e+00  7.000000e+00  7.000000\n",
       "mean   107.302571  5.080248e+06  3.061327e+06  0.900429\n",
       "std     97.249970  5.494020e+06  4.576187e+06  0.016592\n",
       "min     35.467000  1.785387e+06  2.424950e+05  0.873000\n",
       "25%     62.308000  2.500716e+06  3.292250e+05  0.889500\n",
       "50%     64.511000  2.950039e+06  3.779300e+05  0.907000\n",
       "75%    104.000500  4.238402e+06  5.082873e+06  0.914000\n",
       "max    318.523000  1.734808e+07  9.984670e+06  0.916000"
      ]
     },
     "execution_count": 11,
     "metadata": {},
     "output_type": "execute_result"
    }
   ],
   "source": [
    "df.describe()"
   ]
  },
  {
   "cell_type": "code",
   "execution_count": 12,
   "id": "combined-theme",
   "metadata": {},
   "outputs": [
    {
     "data": {
      "text/plain": [
       "Population      float64\n",
       "GDP               int64\n",
       "Surface Area      int64\n",
       "HDI             float64\n",
       "Continent        object\n",
       "dtype: object"
      ]
     },
     "execution_count": 12,
     "metadata": {},
     "output_type": "execute_result"
    }
   ],
   "source": [
    "df.dtypes"
   ]
  },
  {
   "cell_type": "code",
   "execution_count": 13,
   "id": "controlled-platinum",
   "metadata": {},
   "outputs": [
    {
     "data": {
      "text/plain": [
       "float64    2\n",
       "int64      2\n",
       "object     1\n",
       "dtype: int64"
      ]
     },
     "execution_count": 13,
     "metadata": {},
     "output_type": "execute_result"
    }
   ],
   "source": [
    "df.dtypes.value_counts()"
   ]
  },
  {
   "cell_type": "code",
   "execution_count": null,
   "id": "later-simon",
   "metadata": {},
   "outputs": [],
   "source": []
  },
  {
   "cell_type": "code",
   "execution_count": 14,
   "id": "compact-mambo",
   "metadata": {},
   "outputs": [
    {
     "data": {
      "text/html": [
       "<div>\n",
       "<style scoped>\n",
       "    .dataframe tbody tr th:only-of-type {\n",
       "        vertical-align: middle;\n",
       "    }\n",
       "\n",
       "    .dataframe tbody tr th {\n",
       "        vertical-align: top;\n",
       "    }\n",
       "\n",
       "    .dataframe thead th {\n",
       "        text-align: right;\n",
       "    }\n",
       "</style>\n",
       "<table border=\"1\" class=\"dataframe\">\n",
       "  <thead>\n",
       "    <tr style=\"text-align: right;\">\n",
       "      <th></th>\n",
       "      <th>Population</th>\n",
       "      <th>GDP</th>\n",
       "      <th>Surface Area</th>\n",
       "      <th>HDI</th>\n",
       "      <th>Continent</th>\n",
       "    </tr>\n",
       "  </thead>\n",
       "  <tbody>\n",
       "    <tr>\n",
       "      <th>Canada</th>\n",
       "      <td>35.467</td>\n",
       "      <td>1785387</td>\n",
       "      <td>9984670</td>\n",
       "      <td>0.913</td>\n",
       "      <td>America</td>\n",
       "    </tr>\n",
       "    <tr>\n",
       "      <th>France</th>\n",
       "      <td>63.951</td>\n",
       "      <td>2833687</td>\n",
       "      <td>640679</td>\n",
       "      <td>0.888</td>\n",
       "      <td>Europe</td>\n",
       "    </tr>\n",
       "    <tr>\n",
       "      <th>Germany</th>\n",
       "      <td>80.940</td>\n",
       "      <td>3874437</td>\n",
       "      <td>357114</td>\n",
       "      <td>0.916</td>\n",
       "      <td>Europe</td>\n",
       "    </tr>\n",
       "    <tr>\n",
       "      <th>Italy</th>\n",
       "      <td>60.665</td>\n",
       "      <td>2167744</td>\n",
       "      <td>301336</td>\n",
       "      <td>0.873</td>\n",
       "      <td>Europe</td>\n",
       "    </tr>\n",
       "    <tr>\n",
       "      <th>Japan</th>\n",
       "      <td>127.061</td>\n",
       "      <td>4602367</td>\n",
       "      <td>377930</td>\n",
       "      <td>0.891</td>\n",
       "      <td>Asia</td>\n",
       "    </tr>\n",
       "    <tr>\n",
       "      <th>UK</th>\n",
       "      <td>64.511</td>\n",
       "      <td>2950039</td>\n",
       "      <td>242495</td>\n",
       "      <td>0.907</td>\n",
       "      <td>Europe</td>\n",
       "    </tr>\n",
       "    <tr>\n",
       "      <th>US</th>\n",
       "      <td>318.523</td>\n",
       "      <td>17348075</td>\n",
       "      <td>9525067</td>\n",
       "      <td>0.915</td>\n",
       "      <td>America</td>\n",
       "    </tr>\n",
       "  </tbody>\n",
       "</table>\n",
       "</div>"
      ],
      "text/plain": [
       "         Population       GDP  Surface Area    HDI Continent\n",
       "Canada       35.467   1785387       9984670  0.913   America\n",
       "France       63.951   2833687        640679  0.888    Europe\n",
       "Germany      80.940   3874437        357114  0.916    Europe\n",
       "Italy        60.665   2167744        301336  0.873    Europe\n",
       "Japan       127.061   4602367        377930  0.891      Asia\n",
       "UK           64.511   2950039        242495  0.907    Europe\n",
       "US          318.523  17348075       9525067  0.915   America"
      ]
     },
     "execution_count": 14,
     "metadata": {},
     "output_type": "execute_result"
    }
   ],
   "source": [
    "# Indexing, Selection and Slicing\n",
    "df"
   ]
  },
  {
   "cell_type": "code",
   "execution_count": 15,
   "id": "tested-ability",
   "metadata": {},
   "outputs": [
    {
     "data": {
      "text/plain": [
       "Population       35.467\n",
       "GDP             1785387\n",
       "Surface Area    9984670\n",
       "HDI               0.913\n",
       "Continent       America\n",
       "Name: Canada, dtype: object"
      ]
     },
     "execution_count": 15,
     "metadata": {},
     "output_type": "execute_result"
    }
   ],
   "source": [
    "df.loc['Canada']"
   ]
  },
  {
   "cell_type": "code",
   "execution_count": 16,
   "id": "reliable-heating",
   "metadata": {},
   "outputs": [
    {
     "data": {
      "text/plain": [
       "Population       318.523\n",
       "GDP             17348075\n",
       "Surface Area     9525067\n",
       "HDI                0.915\n",
       "Continent        America\n",
       "Name: US, dtype: object"
      ]
     },
     "execution_count": 16,
     "metadata": {},
     "output_type": "execute_result"
    }
   ],
   "source": [
    "df.iloc[-1]"
   ]
  },
  {
   "cell_type": "code",
   "execution_count": 17,
   "id": "answering-fortune",
   "metadata": {},
   "outputs": [
    {
     "data": {
      "text/plain": [
       "Canada      35.467\n",
       "France      63.951\n",
       "Germany     80.940\n",
       "Italy       60.665\n",
       "Japan      127.061\n",
       "UK          64.511\n",
       "US         318.523\n",
       "Name: Population, dtype: float64"
      ]
     },
     "execution_count": 17,
     "metadata": {},
     "output_type": "execute_result"
    }
   ],
   "source": [
    "df['Population']"
   ]
  },
  {
   "cell_type": "code",
   "execution_count": 18,
   "id": "several-cheat",
   "metadata": {},
   "outputs": [
    {
     "data": {
      "text/html": [
       "<div>\n",
       "<style scoped>\n",
       "    .dataframe tbody tr th:only-of-type {\n",
       "        vertical-align: middle;\n",
       "    }\n",
       "\n",
       "    .dataframe tbody tr th {\n",
       "        vertical-align: top;\n",
       "    }\n",
       "\n",
       "    .dataframe thead th {\n",
       "        text-align: right;\n",
       "    }\n",
       "</style>\n",
       "<table border=\"1\" class=\"dataframe\">\n",
       "  <thead>\n",
       "    <tr style=\"text-align: right;\">\n",
       "      <th></th>\n",
       "      <th>Population</th>\n",
       "    </tr>\n",
       "  </thead>\n",
       "  <tbody>\n",
       "    <tr>\n",
       "      <th>Canada</th>\n",
       "      <td>35.467</td>\n",
       "    </tr>\n",
       "    <tr>\n",
       "      <th>France</th>\n",
       "      <td>63.951</td>\n",
       "    </tr>\n",
       "    <tr>\n",
       "      <th>Germany</th>\n",
       "      <td>80.940</td>\n",
       "    </tr>\n",
       "    <tr>\n",
       "      <th>Italy</th>\n",
       "      <td>60.665</td>\n",
       "    </tr>\n",
       "    <tr>\n",
       "      <th>Japan</th>\n",
       "      <td>127.061</td>\n",
       "    </tr>\n",
       "    <tr>\n",
       "      <th>UK</th>\n",
       "      <td>64.511</td>\n",
       "    </tr>\n",
       "    <tr>\n",
       "      <th>US</th>\n",
       "      <td>318.523</td>\n",
       "    </tr>\n",
       "  </tbody>\n",
       "</table>\n",
       "</div>"
      ],
      "text/plain": [
       "         Population\n",
       "Canada       35.467\n",
       "France       63.951\n",
       "Germany      80.940\n",
       "Italy        60.665\n",
       "Japan       127.061\n",
       "UK           64.511\n",
       "US          318.523"
      ]
     },
     "execution_count": 18,
     "metadata": {},
     "output_type": "execute_result"
    }
   ],
   "source": [
    "df['Population'].to_frame()"
   ]
  },
  {
   "cell_type": "code",
   "execution_count": 19,
   "id": "black-shelter",
   "metadata": {},
   "outputs": [
    {
     "data": {
      "text/html": [
       "<div>\n",
       "<style scoped>\n",
       "    .dataframe tbody tr th:only-of-type {\n",
       "        vertical-align: middle;\n",
       "    }\n",
       "\n",
       "    .dataframe tbody tr th {\n",
       "        vertical-align: top;\n",
       "    }\n",
       "\n",
       "    .dataframe thead th {\n",
       "        text-align: right;\n",
       "    }\n",
       "</style>\n",
       "<table border=\"1\" class=\"dataframe\">\n",
       "  <thead>\n",
       "    <tr style=\"text-align: right;\">\n",
       "      <th></th>\n",
       "      <th>Population</th>\n",
       "      <th>GDP</th>\n",
       "    </tr>\n",
       "  </thead>\n",
       "  <tbody>\n",
       "    <tr>\n",
       "      <th>Canada</th>\n",
       "      <td>35.467</td>\n",
       "      <td>1785387</td>\n",
       "    </tr>\n",
       "    <tr>\n",
       "      <th>France</th>\n",
       "      <td>63.951</td>\n",
       "      <td>2833687</td>\n",
       "    </tr>\n",
       "    <tr>\n",
       "      <th>Germany</th>\n",
       "      <td>80.940</td>\n",
       "      <td>3874437</td>\n",
       "    </tr>\n",
       "    <tr>\n",
       "      <th>Italy</th>\n",
       "      <td>60.665</td>\n",
       "      <td>2167744</td>\n",
       "    </tr>\n",
       "    <tr>\n",
       "      <th>Japan</th>\n",
       "      <td>127.061</td>\n",
       "      <td>4602367</td>\n",
       "    </tr>\n",
       "    <tr>\n",
       "      <th>UK</th>\n",
       "      <td>64.511</td>\n",
       "      <td>2950039</td>\n",
       "    </tr>\n",
       "    <tr>\n",
       "      <th>US</th>\n",
       "      <td>318.523</td>\n",
       "      <td>17348075</td>\n",
       "    </tr>\n",
       "  </tbody>\n",
       "</table>\n",
       "</div>"
      ],
      "text/plain": [
       "         Population       GDP\n",
       "Canada       35.467   1785387\n",
       "France       63.951   2833687\n",
       "Germany      80.940   3874437\n",
       "Italy        60.665   2167744\n",
       "Japan       127.061   4602367\n",
       "UK           64.511   2950039\n",
       "US          318.523  17348075"
      ]
     },
     "execution_count": 19,
     "metadata": {},
     "output_type": "execute_result"
    }
   ],
   "source": [
    "df[['Population', 'GDP']]"
   ]
  },
  {
   "cell_type": "code",
   "execution_count": 20,
   "id": "deluxe-rolling",
   "metadata": {},
   "outputs": [
    {
     "data": {
      "text/html": [
       "<div>\n",
       "<style scoped>\n",
       "    .dataframe tbody tr th:only-of-type {\n",
       "        vertical-align: middle;\n",
       "    }\n",
       "\n",
       "    .dataframe tbody tr th {\n",
       "        vertical-align: top;\n",
       "    }\n",
       "\n",
       "    .dataframe thead th {\n",
       "        text-align: right;\n",
       "    }\n",
       "</style>\n",
       "<table border=\"1\" class=\"dataframe\">\n",
       "  <thead>\n",
       "    <tr style=\"text-align: right;\">\n",
       "      <th></th>\n",
       "      <th>Population</th>\n",
       "      <th>GDP</th>\n",
       "      <th>Surface Area</th>\n",
       "      <th>HDI</th>\n",
       "      <th>Continent</th>\n",
       "    </tr>\n",
       "  </thead>\n",
       "  <tbody>\n",
       "    <tr>\n",
       "      <th>France</th>\n",
       "      <td>63.951</td>\n",
       "      <td>2833687</td>\n",
       "      <td>640679</td>\n",
       "      <td>0.888</td>\n",
       "      <td>Europe</td>\n",
       "    </tr>\n",
       "    <tr>\n",
       "      <th>Germany</th>\n",
       "      <td>80.940</td>\n",
       "      <td>3874437</td>\n",
       "      <td>357114</td>\n",
       "      <td>0.916</td>\n",
       "      <td>Europe</td>\n",
       "    </tr>\n",
       "  </tbody>\n",
       "</table>\n",
       "</div>"
      ],
      "text/plain": [
       "         Population      GDP  Surface Area    HDI Continent\n",
       "France       63.951  2833687        640679  0.888    Europe\n",
       "Germany      80.940  3874437        357114  0.916    Europe"
      ]
     },
     "execution_count": 20,
     "metadata": {},
     "output_type": "execute_result"
    }
   ],
   "source": [
    "df[1:3]"
   ]
  },
  {
   "cell_type": "code",
   "execution_count": 21,
   "id": "illegal-doubt",
   "metadata": {},
   "outputs": [
    {
     "data": {
      "text/plain": [
       "Population       60.665\n",
       "GDP             2167744\n",
       "Surface Area     301336\n",
       "HDI               0.873\n",
       "Continent        Europe\n",
       "Name: Italy, dtype: object"
      ]
     },
     "execution_count": 21,
     "metadata": {},
     "output_type": "execute_result"
    }
   ],
   "source": [
    "df.loc['Italy']"
   ]
  },
  {
   "cell_type": "code",
   "execution_count": 22,
   "id": "linear-poetry",
   "metadata": {},
   "outputs": [
    {
     "data": {
      "text/html": [
       "<div>\n",
       "<style scoped>\n",
       "    .dataframe tbody tr th:only-of-type {\n",
       "        vertical-align: middle;\n",
       "    }\n",
       "\n",
       "    .dataframe tbody tr th {\n",
       "        vertical-align: top;\n",
       "    }\n",
       "\n",
       "    .dataframe thead th {\n",
       "        text-align: right;\n",
       "    }\n",
       "</style>\n",
       "<table border=\"1\" class=\"dataframe\">\n",
       "  <thead>\n",
       "    <tr style=\"text-align: right;\">\n",
       "      <th></th>\n",
       "      <th>Population</th>\n",
       "      <th>GDP</th>\n",
       "      <th>Surface Area</th>\n",
       "      <th>HDI</th>\n",
       "      <th>Continent</th>\n",
       "    </tr>\n",
       "  </thead>\n",
       "  <tbody>\n",
       "    <tr>\n",
       "      <th>France</th>\n",
       "      <td>63.951</td>\n",
       "      <td>2833687</td>\n",
       "      <td>640679</td>\n",
       "      <td>0.888</td>\n",
       "      <td>Europe</td>\n",
       "    </tr>\n",
       "    <tr>\n",
       "      <th>Germany</th>\n",
       "      <td>80.940</td>\n",
       "      <td>3874437</td>\n",
       "      <td>357114</td>\n",
       "      <td>0.916</td>\n",
       "      <td>Europe</td>\n",
       "    </tr>\n",
       "    <tr>\n",
       "      <th>Italy</th>\n",
       "      <td>60.665</td>\n",
       "      <td>2167744</td>\n",
       "      <td>301336</td>\n",
       "      <td>0.873</td>\n",
       "      <td>Europe</td>\n",
       "    </tr>\n",
       "  </tbody>\n",
       "</table>\n",
       "</div>"
      ],
      "text/plain": [
       "         Population      GDP  Surface Area    HDI Continent\n",
       "France       63.951  2833687        640679  0.888    Europe\n",
       "Germany      80.940  3874437        357114  0.916    Europe\n",
       "Italy        60.665  2167744        301336  0.873    Europe"
      ]
     },
     "execution_count": 22,
     "metadata": {},
     "output_type": "execute_result"
    }
   ],
   "source": [
    "df.loc['France': 'Italy']"
   ]
  },
  {
   "cell_type": "code",
   "execution_count": 24,
   "id": "medieval-strengthening",
   "metadata": {},
   "outputs": [
    {
     "data": {
      "text/plain": [
       "France     63.951\n",
       "Germany    80.940\n",
       "Italy      60.665\n",
       "Name: Population, dtype: float64"
      ]
     },
     "execution_count": 24,
     "metadata": {},
     "output_type": "execute_result"
    }
   ],
   "source": [
    "df.loc['France': 'Italy', 'Population']"
   ]
  },
  {
   "cell_type": "code",
   "execution_count": 25,
   "id": "numerous-collaboration",
   "metadata": {},
   "outputs": [
    {
     "data": {
      "text/html": [
       "<div>\n",
       "<style scoped>\n",
       "    .dataframe tbody tr th:only-of-type {\n",
       "        vertical-align: middle;\n",
       "    }\n",
       "\n",
       "    .dataframe tbody tr th {\n",
       "        vertical-align: top;\n",
       "    }\n",
       "\n",
       "    .dataframe thead th {\n",
       "        text-align: right;\n",
       "    }\n",
       "</style>\n",
       "<table border=\"1\" class=\"dataframe\">\n",
       "  <thead>\n",
       "    <tr style=\"text-align: right;\">\n",
       "      <th></th>\n",
       "      <th>Population</th>\n",
       "    </tr>\n",
       "  </thead>\n",
       "  <tbody>\n",
       "    <tr>\n",
       "      <th>France</th>\n",
       "      <td>63.951</td>\n",
       "    </tr>\n",
       "    <tr>\n",
       "      <th>Germany</th>\n",
       "      <td>80.940</td>\n",
       "    </tr>\n",
       "    <tr>\n",
       "      <th>Italy</th>\n",
       "      <td>60.665</td>\n",
       "    </tr>\n",
       "  </tbody>\n",
       "</table>\n",
       "</div>"
      ],
      "text/plain": [
       "         Population\n",
       "France       63.951\n",
       "Germany      80.940\n",
       "Italy        60.665"
      ]
     },
     "execution_count": 25,
     "metadata": {},
     "output_type": "execute_result"
    }
   ],
   "source": [
    "df.loc['France': 'Italy', 'Population'].to_frame()"
   ]
  },
  {
   "cell_type": "code",
   "execution_count": 26,
   "id": "owned-series",
   "metadata": {},
   "outputs": [
    {
     "data": {
      "text/html": [
       "<div>\n",
       "<style scoped>\n",
       "    .dataframe tbody tr th:only-of-type {\n",
       "        vertical-align: middle;\n",
       "    }\n",
       "\n",
       "    .dataframe tbody tr th {\n",
       "        vertical-align: top;\n",
       "    }\n",
       "\n",
       "    .dataframe thead th {\n",
       "        text-align: right;\n",
       "    }\n",
       "</style>\n",
       "<table border=\"1\" class=\"dataframe\">\n",
       "  <thead>\n",
       "    <tr style=\"text-align: right;\">\n",
       "      <th></th>\n",
       "      <th>Population</th>\n",
       "      <th>GDP</th>\n",
       "    </tr>\n",
       "  </thead>\n",
       "  <tbody>\n",
       "    <tr>\n",
       "      <th>France</th>\n",
       "      <td>63.951</td>\n",
       "      <td>2833687</td>\n",
       "    </tr>\n",
       "    <tr>\n",
       "      <th>Germany</th>\n",
       "      <td>80.940</td>\n",
       "      <td>3874437</td>\n",
       "    </tr>\n",
       "    <tr>\n",
       "      <th>Italy</th>\n",
       "      <td>60.665</td>\n",
       "      <td>2167744</td>\n",
       "    </tr>\n",
       "  </tbody>\n",
       "</table>\n",
       "</div>"
      ],
      "text/plain": [
       "         Population      GDP\n",
       "France       63.951  2833687\n",
       "Germany      80.940  3874437\n",
       "Italy        60.665  2167744"
      ]
     },
     "execution_count": 26,
     "metadata": {},
     "output_type": "execute_result"
    }
   ],
   "source": [
    "df.loc['France': 'Italy', ['Population', 'GDP']]"
   ]
  },
  {
   "cell_type": "code",
   "execution_count": 29,
   "id": "interesting-champion",
   "metadata": {},
   "outputs": [
    {
     "data": {
      "text/html": [
       "<div>\n",
       "<style scoped>\n",
       "    .dataframe tbody tr th:only-of-type {\n",
       "        vertical-align: middle;\n",
       "    }\n",
       "\n",
       "    .dataframe tbody tr th {\n",
       "        vertical-align: top;\n",
       "    }\n",
       "\n",
       "    .dataframe thead th {\n",
       "        text-align: right;\n",
       "    }\n",
       "</style>\n",
       "<table border=\"1\" class=\"dataframe\">\n",
       "  <thead>\n",
       "    <tr style=\"text-align: right;\">\n",
       "      <th></th>\n",
       "      <th>Population</th>\n",
       "      <th>GDP</th>\n",
       "      <th>Surface Area</th>\n",
       "      <th>HDI</th>\n",
       "      <th>Continent</th>\n",
       "    </tr>\n",
       "  </thead>\n",
       "  <tbody>\n",
       "    <tr>\n",
       "      <th>Canada</th>\n",
       "      <td>35.467</td>\n",
       "      <td>1785387</td>\n",
       "      <td>9984670</td>\n",
       "      <td>0.913</td>\n",
       "      <td>America</td>\n",
       "    </tr>\n",
       "    <tr>\n",
       "      <th>France</th>\n",
       "      <td>63.951</td>\n",
       "      <td>2833687</td>\n",
       "      <td>640679</td>\n",
       "      <td>0.888</td>\n",
       "      <td>Europe</td>\n",
       "    </tr>\n",
       "    <tr>\n",
       "      <th>Germany</th>\n",
       "      <td>80.940</td>\n",
       "      <td>3874437</td>\n",
       "      <td>357114</td>\n",
       "      <td>0.916</td>\n",
       "      <td>Europe</td>\n",
       "    </tr>\n",
       "    <tr>\n",
       "      <th>Italy</th>\n",
       "      <td>60.665</td>\n",
       "      <td>2167744</td>\n",
       "      <td>301336</td>\n",
       "      <td>0.873</td>\n",
       "      <td>Europe</td>\n",
       "    </tr>\n",
       "    <tr>\n",
       "      <th>Japan</th>\n",
       "      <td>127.061</td>\n",
       "      <td>4602367</td>\n",
       "      <td>377930</td>\n",
       "      <td>0.891</td>\n",
       "      <td>Asia</td>\n",
       "    </tr>\n",
       "    <tr>\n",
       "      <th>UK</th>\n",
       "      <td>64.511</td>\n",
       "      <td>2950039</td>\n",
       "      <td>242495</td>\n",
       "      <td>0.907</td>\n",
       "      <td>Europe</td>\n",
       "    </tr>\n",
       "    <tr>\n",
       "      <th>US</th>\n",
       "      <td>318.523</td>\n",
       "      <td>17348075</td>\n",
       "      <td>9525067</td>\n",
       "      <td>0.915</td>\n",
       "      <td>America</td>\n",
       "    </tr>\n",
       "  </tbody>\n",
       "</table>\n",
       "</div>"
      ],
      "text/plain": [
       "         Population       GDP  Surface Area    HDI Continent\n",
       "Canada       35.467   1785387       9984670  0.913   America\n",
       "France       63.951   2833687        640679  0.888    Europe\n",
       "Germany      80.940   3874437        357114  0.916    Europe\n",
       "Italy        60.665   2167744        301336  0.873    Europe\n",
       "Japan       127.061   4602367        377930  0.891      Asia\n",
       "UK           64.511   2950039        242495  0.907    Europe\n",
       "US          318.523  17348075       9525067  0.915   America"
      ]
     },
     "execution_count": 29,
     "metadata": {},
     "output_type": "execute_result"
    }
   ],
   "source": [
    "df"
   ]
  },
  {
   "cell_type": "code",
   "execution_count": 30,
   "id": "rising-album",
   "metadata": {},
   "outputs": [
    {
     "data": {
      "text/plain": [
       "Population       35.467\n",
       "GDP             1785387\n",
       "Surface Area    9984670\n",
       "HDI               0.913\n",
       "Continent       America\n",
       "Name: Canada, dtype: object"
      ]
     },
     "execution_count": 30,
     "metadata": {},
     "output_type": "execute_result"
    }
   ],
   "source": [
    "df.iloc[0]"
   ]
  },
  {
   "cell_type": "code",
   "execution_count": 31,
   "id": "billion-reproduction",
   "metadata": {},
   "outputs": [
    {
     "data": {
      "text/html": [
       "<div>\n",
       "<style scoped>\n",
       "    .dataframe tbody tr th:only-of-type {\n",
       "        vertical-align: middle;\n",
       "    }\n",
       "\n",
       "    .dataframe tbody tr th {\n",
       "        vertical-align: top;\n",
       "    }\n",
       "\n",
       "    .dataframe thead th {\n",
       "        text-align: right;\n",
       "    }\n",
       "</style>\n",
       "<table border=\"1\" class=\"dataframe\">\n",
       "  <thead>\n",
       "    <tr style=\"text-align: right;\">\n",
       "      <th></th>\n",
       "      <th>Canada</th>\n",
       "    </tr>\n",
       "  </thead>\n",
       "  <tbody>\n",
       "    <tr>\n",
       "      <th>Population</th>\n",
       "      <td>35.467</td>\n",
       "    </tr>\n",
       "    <tr>\n",
       "      <th>GDP</th>\n",
       "      <td>1785387</td>\n",
       "    </tr>\n",
       "    <tr>\n",
       "      <th>Surface Area</th>\n",
       "      <td>9984670</td>\n",
       "    </tr>\n",
       "    <tr>\n",
       "      <th>HDI</th>\n",
       "      <td>0.913</td>\n",
       "    </tr>\n",
       "    <tr>\n",
       "      <th>Continent</th>\n",
       "      <td>America</td>\n",
       "    </tr>\n",
       "  </tbody>\n",
       "</table>\n",
       "</div>"
      ],
      "text/plain": [
       "               Canada\n",
       "Population     35.467\n",
       "GDP           1785387\n",
       "Surface Area  9984670\n",
       "HDI             0.913\n",
       "Continent     America"
      ]
     },
     "execution_count": 31,
     "metadata": {},
     "output_type": "execute_result"
    }
   ],
   "source": [
    "df.iloc[0].to_frame()"
   ]
  },
  {
   "cell_type": "code",
   "execution_count": 32,
   "id": "weird-fusion",
   "metadata": {},
   "outputs": [
    {
     "data": {
      "text/plain": [
       "Population       318.523\n",
       "GDP             17348075\n",
       "Surface Area     9525067\n",
       "HDI                0.915\n",
       "Continent        America\n",
       "Name: US, dtype: object"
      ]
     },
     "execution_count": 32,
     "metadata": {},
     "output_type": "execute_result"
    }
   ],
   "source": [
    "df.iloc[-1]"
   ]
  },
  {
   "cell_type": "code",
   "execution_count": 33,
   "id": "south-yukon",
   "metadata": {},
   "outputs": [
    {
     "data": {
      "text/html": [
       "<div>\n",
       "<style scoped>\n",
       "    .dataframe tbody tr th:only-of-type {\n",
       "        vertical-align: middle;\n",
       "    }\n",
       "\n",
       "    .dataframe tbody tr th {\n",
       "        vertical-align: top;\n",
       "    }\n",
       "\n",
       "    .dataframe thead th {\n",
       "        text-align: right;\n",
       "    }\n",
       "</style>\n",
       "<table border=\"1\" class=\"dataframe\">\n",
       "  <thead>\n",
       "    <tr style=\"text-align: right;\">\n",
       "      <th></th>\n",
       "      <th>Population</th>\n",
       "      <th>GDP</th>\n",
       "      <th>Surface Area</th>\n",
       "      <th>HDI</th>\n",
       "      <th>Continent</th>\n",
       "    </tr>\n",
       "  </thead>\n",
       "  <tbody>\n",
       "    <tr>\n",
       "      <th>Canada</th>\n",
       "      <td>35.467</td>\n",
       "      <td>1785387</td>\n",
       "      <td>9984670</td>\n",
       "      <td>0.913</td>\n",
       "      <td>America</td>\n",
       "    </tr>\n",
       "    <tr>\n",
       "      <th>France</th>\n",
       "      <td>63.951</td>\n",
       "      <td>2833687</td>\n",
       "      <td>640679</td>\n",
       "      <td>0.888</td>\n",
       "      <td>Europe</td>\n",
       "    </tr>\n",
       "    <tr>\n",
       "      <th>US</th>\n",
       "      <td>318.523</td>\n",
       "      <td>17348075</td>\n",
       "      <td>9525067</td>\n",
       "      <td>0.915</td>\n",
       "      <td>America</td>\n",
       "    </tr>\n",
       "  </tbody>\n",
       "</table>\n",
       "</div>"
      ],
      "text/plain": [
       "        Population       GDP  Surface Area    HDI Continent\n",
       "Canada      35.467   1785387       9984670  0.913   America\n",
       "France      63.951   2833687        640679  0.888    Europe\n",
       "US         318.523  17348075       9525067  0.915   America"
      ]
     },
     "execution_count": 33,
     "metadata": {},
     "output_type": "execute_result"
    }
   ],
   "source": [
    "df.iloc[[0, 1, -1]]"
   ]
  },
  {
   "cell_type": "code",
   "execution_count": 34,
   "id": "international-there",
   "metadata": {},
   "outputs": [
    {
     "data": {
      "text/html": [
       "<div>\n",
       "<style scoped>\n",
       "    .dataframe tbody tr th:only-of-type {\n",
       "        vertical-align: middle;\n",
       "    }\n",
       "\n",
       "    .dataframe tbody tr th {\n",
       "        vertical-align: top;\n",
       "    }\n",
       "\n",
       "    .dataframe thead th {\n",
       "        text-align: right;\n",
       "    }\n",
       "</style>\n",
       "<table border=\"1\" class=\"dataframe\">\n",
       "  <thead>\n",
       "    <tr style=\"text-align: right;\">\n",
       "      <th></th>\n",
       "      <th>Population</th>\n",
       "      <th>GDP</th>\n",
       "      <th>Surface Area</th>\n",
       "      <th>HDI</th>\n",
       "      <th>Continent</th>\n",
       "    </tr>\n",
       "  </thead>\n",
       "  <tbody>\n",
       "    <tr>\n",
       "      <th>France</th>\n",
       "      <td>63.951</td>\n",
       "      <td>2833687</td>\n",
       "      <td>640679</td>\n",
       "      <td>0.888</td>\n",
       "      <td>Europe</td>\n",
       "    </tr>\n",
       "    <tr>\n",
       "      <th>Germany</th>\n",
       "      <td>80.940</td>\n",
       "      <td>3874437</td>\n",
       "      <td>357114</td>\n",
       "      <td>0.916</td>\n",
       "      <td>Europe</td>\n",
       "    </tr>\n",
       "  </tbody>\n",
       "</table>\n",
       "</div>"
      ],
      "text/plain": [
       "         Population      GDP  Surface Area    HDI Continent\n",
       "France       63.951  2833687        640679  0.888    Europe\n",
       "Germany      80.940  3874437        357114  0.916    Europe"
      ]
     },
     "execution_count": 34,
     "metadata": {},
     "output_type": "execute_result"
    }
   ],
   "source": [
    "df.iloc[1:3]"
   ]
  },
  {
   "cell_type": "code",
   "execution_count": 35,
   "id": "saving-eligibility",
   "metadata": {},
   "outputs": [
    {
     "data": {
      "text/plain": [
       "France     0.888\n",
       "Germany    0.916\n",
       "Name: HDI, dtype: float64"
      ]
     },
     "execution_count": 35,
     "metadata": {},
     "output_type": "execute_result"
    }
   ],
   "source": [
    "df.iloc[1:3, 3]"
   ]
  },
  {
   "cell_type": "code",
   "execution_count": 36,
   "id": "loaded-export",
   "metadata": {},
   "outputs": [
    {
     "data": {
      "text/html": [
       "<div>\n",
       "<style scoped>\n",
       "    .dataframe tbody tr th:only-of-type {\n",
       "        vertical-align: middle;\n",
       "    }\n",
       "\n",
       "    .dataframe tbody tr th {\n",
       "        vertical-align: top;\n",
       "    }\n",
       "\n",
       "    .dataframe thead th {\n",
       "        text-align: right;\n",
       "    }\n",
       "</style>\n",
       "<table border=\"1\" class=\"dataframe\">\n",
       "  <thead>\n",
       "    <tr style=\"text-align: right;\">\n",
       "      <th></th>\n",
       "      <th>HDI</th>\n",
       "    </tr>\n",
       "  </thead>\n",
       "  <tbody>\n",
       "    <tr>\n",
       "      <th>France</th>\n",
       "      <td>0.888</td>\n",
       "    </tr>\n",
       "    <tr>\n",
       "      <th>Germany</th>\n",
       "      <td>0.916</td>\n",
       "    </tr>\n",
       "  </tbody>\n",
       "</table>\n",
       "</div>"
      ],
      "text/plain": [
       "           HDI\n",
       "France   0.888\n",
       "Germany  0.916"
      ]
     },
     "execution_count": 36,
     "metadata": {},
     "output_type": "execute_result"
    }
   ],
   "source": [
    "df.iloc[1:3, 3].to_frame()"
   ]
  },
  {
   "cell_type": "code",
   "execution_count": 37,
   "id": "israeli-lease",
   "metadata": {},
   "outputs": [
    {
     "data": {
      "text/html": [
       "<div>\n",
       "<style scoped>\n",
       "    .dataframe tbody tr th:only-of-type {\n",
       "        vertical-align: middle;\n",
       "    }\n",
       "\n",
       "    .dataframe tbody tr th {\n",
       "        vertical-align: top;\n",
       "    }\n",
       "\n",
       "    .dataframe thead th {\n",
       "        text-align: right;\n",
       "    }\n",
       "</style>\n",
       "<table border=\"1\" class=\"dataframe\">\n",
       "  <thead>\n",
       "    <tr style=\"text-align: right;\">\n",
       "      <th></th>\n",
       "      <th>Population</th>\n",
       "      <th>HDI</th>\n",
       "    </tr>\n",
       "  </thead>\n",
       "  <tbody>\n",
       "    <tr>\n",
       "      <th>France</th>\n",
       "      <td>63.951</td>\n",
       "      <td>0.888</td>\n",
       "    </tr>\n",
       "    <tr>\n",
       "      <th>Germany</th>\n",
       "      <td>80.940</td>\n",
       "      <td>0.916</td>\n",
       "    </tr>\n",
       "  </tbody>\n",
       "</table>\n",
       "</div>"
      ],
      "text/plain": [
       "         Population    HDI\n",
       "France       63.951  0.888\n",
       "Germany      80.940  0.916"
      ]
     },
     "execution_count": 37,
     "metadata": {},
     "output_type": "execute_result"
    }
   ],
   "source": [
    "df.iloc[1:3, [0,3]]"
   ]
  },
  {
   "cell_type": "code",
   "execution_count": 38,
   "id": "valued-designation",
   "metadata": {},
   "outputs": [
    {
     "data": {
      "text/html": [
       "<div>\n",
       "<style scoped>\n",
       "    .dataframe tbody tr th:only-of-type {\n",
       "        vertical-align: middle;\n",
       "    }\n",
       "\n",
       "    .dataframe tbody tr th {\n",
       "        vertical-align: top;\n",
       "    }\n",
       "\n",
       "    .dataframe thead th {\n",
       "        text-align: right;\n",
       "    }\n",
       "</style>\n",
       "<table border=\"1\" class=\"dataframe\">\n",
       "  <thead>\n",
       "    <tr style=\"text-align: right;\">\n",
       "      <th></th>\n",
       "      <th>GDP</th>\n",
       "      <th>Surface Area</th>\n",
       "    </tr>\n",
       "  </thead>\n",
       "  <tbody>\n",
       "    <tr>\n",
       "      <th>France</th>\n",
       "      <td>2833687</td>\n",
       "      <td>640679</td>\n",
       "    </tr>\n",
       "    <tr>\n",
       "      <th>Germany</th>\n",
       "      <td>3874437</td>\n",
       "      <td>357114</td>\n",
       "    </tr>\n",
       "  </tbody>\n",
       "</table>\n",
       "</div>"
      ],
      "text/plain": [
       "             GDP  Surface Area\n",
       "France   2833687        640679\n",
       "Germany  3874437        357114"
      ]
     },
     "execution_count": 38,
     "metadata": {},
     "output_type": "execute_result"
    }
   ],
   "source": [
    "df.iloc[1:3, 1:3]"
   ]
  },
  {
   "cell_type": "code",
   "execution_count": null,
   "id": "statutory-shipping",
   "metadata": {},
   "outputs": [],
   "source": []
  },
  {
   "cell_type": "code",
   "execution_count": null,
   "id": "distinct-dollar",
   "metadata": {},
   "outputs": [],
   "source": [
    "# Conditional selection (boolean arrays)\n"
   ]
  },
  {
   "cell_type": "code",
   "execution_count": 39,
   "id": "republican-uncle",
   "metadata": {},
   "outputs": [
    {
     "data": {
      "text/html": [
       "<div>\n",
       "<style scoped>\n",
       "    .dataframe tbody tr th:only-of-type {\n",
       "        vertical-align: middle;\n",
       "    }\n",
       "\n",
       "    .dataframe tbody tr th {\n",
       "        vertical-align: top;\n",
       "    }\n",
       "\n",
       "    .dataframe thead th {\n",
       "        text-align: right;\n",
       "    }\n",
       "</style>\n",
       "<table border=\"1\" class=\"dataframe\">\n",
       "  <thead>\n",
       "    <tr style=\"text-align: right;\">\n",
       "      <th></th>\n",
       "      <th>Population</th>\n",
       "      <th>GDP</th>\n",
       "      <th>Surface Area</th>\n",
       "      <th>HDI</th>\n",
       "      <th>Continent</th>\n",
       "    </tr>\n",
       "  </thead>\n",
       "  <tbody>\n",
       "    <tr>\n",
       "      <th>Canada</th>\n",
       "      <td>35.467</td>\n",
       "      <td>1785387</td>\n",
       "      <td>9984670</td>\n",
       "      <td>0.913</td>\n",
       "      <td>America</td>\n",
       "    </tr>\n",
       "    <tr>\n",
       "      <th>France</th>\n",
       "      <td>63.951</td>\n",
       "      <td>2833687</td>\n",
       "      <td>640679</td>\n",
       "      <td>0.888</td>\n",
       "      <td>Europe</td>\n",
       "    </tr>\n",
       "    <tr>\n",
       "      <th>Germany</th>\n",
       "      <td>80.940</td>\n",
       "      <td>3874437</td>\n",
       "      <td>357114</td>\n",
       "      <td>0.916</td>\n",
       "      <td>Europe</td>\n",
       "    </tr>\n",
       "    <tr>\n",
       "      <th>Italy</th>\n",
       "      <td>60.665</td>\n",
       "      <td>2167744</td>\n",
       "      <td>301336</td>\n",
       "      <td>0.873</td>\n",
       "      <td>Europe</td>\n",
       "    </tr>\n",
       "    <tr>\n",
       "      <th>Japan</th>\n",
       "      <td>127.061</td>\n",
       "      <td>4602367</td>\n",
       "      <td>377930</td>\n",
       "      <td>0.891</td>\n",
       "      <td>Asia</td>\n",
       "    </tr>\n",
       "    <tr>\n",
       "      <th>UK</th>\n",
       "      <td>64.511</td>\n",
       "      <td>2950039</td>\n",
       "      <td>242495</td>\n",
       "      <td>0.907</td>\n",
       "      <td>Europe</td>\n",
       "    </tr>\n",
       "    <tr>\n",
       "      <th>US</th>\n",
       "      <td>318.523</td>\n",
       "      <td>17348075</td>\n",
       "      <td>9525067</td>\n",
       "      <td>0.915</td>\n",
       "      <td>America</td>\n",
       "    </tr>\n",
       "  </tbody>\n",
       "</table>\n",
       "</div>"
      ],
      "text/plain": [
       "         Population       GDP  Surface Area    HDI Continent\n",
       "Canada       35.467   1785387       9984670  0.913   America\n",
       "France       63.951   2833687        640679  0.888    Europe\n",
       "Germany      80.940   3874437        357114  0.916    Europe\n",
       "Italy        60.665   2167744        301336  0.873    Europe\n",
       "Japan       127.061   4602367        377930  0.891      Asia\n",
       "UK           64.511   2950039        242495  0.907    Europe\n",
       "US          318.523  17348075       9525067  0.915   America"
      ]
     },
     "execution_count": 39,
     "metadata": {},
     "output_type": "execute_result"
    }
   ],
   "source": [
    "df"
   ]
  },
  {
   "cell_type": "code",
   "execution_count": 40,
   "id": "worldwide-scheduling",
   "metadata": {},
   "outputs": [
    {
     "data": {
      "text/plain": [
       "Canada     False\n",
       "France     False\n",
       "Germany     True\n",
       "Italy      False\n",
       "Japan       True\n",
       "UK         False\n",
       "US          True\n",
       "Name: Population, dtype: bool"
      ]
     },
     "execution_count": 40,
     "metadata": {},
     "output_type": "execute_result"
    }
   ],
   "source": [
    "df['Population'] > 70"
   ]
  },
  {
   "cell_type": "code",
   "execution_count": 44,
   "id": "rental-singer",
   "metadata": {},
   "outputs": [
    {
     "data": {
      "text/html": [
       "<div>\n",
       "<style scoped>\n",
       "    .dataframe tbody tr th:only-of-type {\n",
       "        vertical-align: middle;\n",
       "    }\n",
       "\n",
       "    .dataframe tbody tr th {\n",
       "        vertical-align: top;\n",
       "    }\n",
       "\n",
       "    .dataframe thead th {\n",
       "        text-align: right;\n",
       "    }\n",
       "</style>\n",
       "<table border=\"1\" class=\"dataframe\">\n",
       "  <thead>\n",
       "    <tr style=\"text-align: right;\">\n",
       "      <th></th>\n",
       "      <th>Population</th>\n",
       "    </tr>\n",
       "  </thead>\n",
       "  <tbody>\n",
       "    <tr>\n",
       "      <th>Canada</th>\n",
       "      <td>False</td>\n",
       "    </tr>\n",
       "    <tr>\n",
       "      <th>France</th>\n",
       "      <td>False</td>\n",
       "    </tr>\n",
       "    <tr>\n",
       "      <th>Germany</th>\n",
       "      <td>True</td>\n",
       "    </tr>\n",
       "    <tr>\n",
       "      <th>Italy</th>\n",
       "      <td>False</td>\n",
       "    </tr>\n",
       "    <tr>\n",
       "      <th>Japan</th>\n",
       "      <td>True</td>\n",
       "    </tr>\n",
       "    <tr>\n",
       "      <th>UK</th>\n",
       "      <td>False</td>\n",
       "    </tr>\n",
       "    <tr>\n",
       "      <th>US</th>\n",
       "      <td>True</td>\n",
       "    </tr>\n",
       "  </tbody>\n",
       "</table>\n",
       "</div>"
      ],
      "text/plain": [
       "         Population\n",
       "Canada        False\n",
       "France        False\n",
       "Germany        True\n",
       "Italy         False\n",
       "Japan          True\n",
       "UK            False\n",
       "US             True"
      ]
     },
     "execution_count": 44,
     "metadata": {},
     "output_type": "execute_result"
    }
   ],
   "source": [
    "(df['Population'] > 70).to_frame()"
   ]
  },
  {
   "cell_type": "code",
   "execution_count": 45,
   "id": "middle-chicken",
   "metadata": {},
   "outputs": [
    {
     "data": {
      "text/html": [
       "<div>\n",
       "<style scoped>\n",
       "    .dataframe tbody tr th:only-of-type {\n",
       "        vertical-align: middle;\n",
       "    }\n",
       "\n",
       "    .dataframe tbody tr th {\n",
       "        vertical-align: top;\n",
       "    }\n",
       "\n",
       "    .dataframe thead th {\n",
       "        text-align: right;\n",
       "    }\n",
       "</style>\n",
       "<table border=\"1\" class=\"dataframe\">\n",
       "  <thead>\n",
       "    <tr style=\"text-align: right;\">\n",
       "      <th></th>\n",
       "      <th>Population</th>\n",
       "      <th>GDP</th>\n",
       "      <th>Surface Area</th>\n",
       "      <th>HDI</th>\n",
       "      <th>Continent</th>\n",
       "    </tr>\n",
       "  </thead>\n",
       "  <tbody>\n",
       "    <tr>\n",
       "      <th>Germany</th>\n",
       "      <td>80.940</td>\n",
       "      <td>3874437</td>\n",
       "      <td>357114</td>\n",
       "      <td>0.916</td>\n",
       "      <td>Europe</td>\n",
       "    </tr>\n",
       "    <tr>\n",
       "      <th>Japan</th>\n",
       "      <td>127.061</td>\n",
       "      <td>4602367</td>\n",
       "      <td>377930</td>\n",
       "      <td>0.891</td>\n",
       "      <td>Asia</td>\n",
       "    </tr>\n",
       "    <tr>\n",
       "      <th>US</th>\n",
       "      <td>318.523</td>\n",
       "      <td>17348075</td>\n",
       "      <td>9525067</td>\n",
       "      <td>0.915</td>\n",
       "      <td>America</td>\n",
       "    </tr>\n",
       "  </tbody>\n",
       "</table>\n",
       "</div>"
      ],
      "text/plain": [
       "         Population       GDP  Surface Area    HDI Continent\n",
       "Germany      80.940   3874437        357114  0.916    Europe\n",
       "Japan       127.061   4602367        377930  0.891      Asia\n",
       "US          318.523  17348075       9525067  0.915   America"
      ]
     },
     "execution_count": 45,
     "metadata": {},
     "output_type": "execute_result"
    }
   ],
   "source": [
    "df.loc[df['Population'] > 70]"
   ]
  },
  {
   "cell_type": "code",
   "execution_count": 46,
   "id": "governmental-kidney",
   "metadata": {},
   "outputs": [
    {
     "data": {
      "text/plain": [
       "Germany     80.940\n",
       "Japan      127.061\n",
       "US         318.523\n",
       "Name: Population, dtype: float64"
      ]
     },
     "execution_count": 46,
     "metadata": {},
     "output_type": "execute_result"
    }
   ],
   "source": [
    "df.loc[df['Population'] > 70, 'Population']"
   ]
  },
  {
   "cell_type": "code",
   "execution_count": 48,
   "id": "union-crawford",
   "metadata": {},
   "outputs": [
    {
     "data": {
      "text/html": [
       "<div>\n",
       "<style scoped>\n",
       "    .dataframe tbody tr th:only-of-type {\n",
       "        vertical-align: middle;\n",
       "    }\n",
       "\n",
       "    .dataframe tbody tr th {\n",
       "        vertical-align: top;\n",
       "    }\n",
       "\n",
       "    .dataframe thead th {\n",
       "        text-align: right;\n",
       "    }\n",
       "</style>\n",
       "<table border=\"1\" class=\"dataframe\">\n",
       "  <thead>\n",
       "    <tr style=\"text-align: right;\">\n",
       "      <th></th>\n",
       "      <th>Population</th>\n",
       "    </tr>\n",
       "  </thead>\n",
       "  <tbody>\n",
       "    <tr>\n",
       "      <th>Germany</th>\n",
       "      <td>80.940</td>\n",
       "    </tr>\n",
       "    <tr>\n",
       "      <th>Japan</th>\n",
       "      <td>127.061</td>\n",
       "    </tr>\n",
       "    <tr>\n",
       "      <th>US</th>\n",
       "      <td>318.523</td>\n",
       "    </tr>\n",
       "  </tbody>\n",
       "</table>\n",
       "</div>"
      ],
      "text/plain": [
       "         Population\n",
       "Germany      80.940\n",
       "Japan       127.061\n",
       "US          318.523"
      ]
     },
     "execution_count": 48,
     "metadata": {},
     "output_type": "execute_result"
    }
   ],
   "source": [
    "df.loc[df['Population'] > 70, 'Population'].to_frame()"
   ]
  },
  {
   "cell_type": "code",
   "execution_count": 49,
   "id": "communist-orbit",
   "metadata": {},
   "outputs": [
    {
     "data": {
      "text/html": [
       "<div>\n",
       "<style scoped>\n",
       "    .dataframe tbody tr th:only-of-type {\n",
       "        vertical-align: middle;\n",
       "    }\n",
       "\n",
       "    .dataframe tbody tr th {\n",
       "        vertical-align: top;\n",
       "    }\n",
       "\n",
       "    .dataframe thead th {\n",
       "        text-align: right;\n",
       "    }\n",
       "</style>\n",
       "<table border=\"1\" class=\"dataframe\">\n",
       "  <thead>\n",
       "    <tr style=\"text-align: right;\">\n",
       "      <th></th>\n",
       "      <th>Population</th>\n",
       "      <th>GDP</th>\n",
       "    </tr>\n",
       "  </thead>\n",
       "  <tbody>\n",
       "    <tr>\n",
       "      <th>Germany</th>\n",
       "      <td>80.940</td>\n",
       "      <td>3874437</td>\n",
       "    </tr>\n",
       "    <tr>\n",
       "      <th>Japan</th>\n",
       "      <td>127.061</td>\n",
       "      <td>4602367</td>\n",
       "    </tr>\n",
       "    <tr>\n",
       "      <th>US</th>\n",
       "      <td>318.523</td>\n",
       "      <td>17348075</td>\n",
       "    </tr>\n",
       "  </tbody>\n",
       "</table>\n",
       "</div>"
      ],
      "text/plain": [
       "         Population       GDP\n",
       "Germany      80.940   3874437\n",
       "Japan       127.061   4602367\n",
       "US          318.523  17348075"
      ]
     },
     "execution_count": 49,
     "metadata": {},
     "output_type": "execute_result"
    }
   ],
   "source": [
    "df.loc[df['Population'] > 70, ['Population', 'GDP']]"
   ]
  },
  {
   "cell_type": "code",
   "execution_count": null,
   "id": "regional-postage",
   "metadata": {},
   "outputs": [],
   "source": []
  },
  {
   "cell_type": "code",
   "execution_count": 50,
   "id": "established-theta",
   "metadata": {},
   "outputs": [
    {
     "data": {
      "text/html": [
       "<div>\n",
       "<style scoped>\n",
       "    .dataframe tbody tr th:only-of-type {\n",
       "        vertical-align: middle;\n",
       "    }\n",
       "\n",
       "    .dataframe tbody tr th {\n",
       "        vertical-align: top;\n",
       "    }\n",
       "\n",
       "    .dataframe thead th {\n",
       "        text-align: right;\n",
       "    }\n",
       "</style>\n",
       "<table border=\"1\" class=\"dataframe\">\n",
       "  <thead>\n",
       "    <tr style=\"text-align: right;\">\n",
       "      <th></th>\n",
       "      <th>Population</th>\n",
       "      <th>GDP</th>\n",
       "      <th>Surface Area</th>\n",
       "      <th>HDI</th>\n",
       "      <th>Continent</th>\n",
       "    </tr>\n",
       "  </thead>\n",
       "  <tbody>\n",
       "    <tr>\n",
       "      <th>France</th>\n",
       "      <td>63.951</td>\n",
       "      <td>2833687</td>\n",
       "      <td>640679</td>\n",
       "      <td>0.888</td>\n",
       "      <td>Europe</td>\n",
       "    </tr>\n",
       "    <tr>\n",
       "      <th>Germany</th>\n",
       "      <td>80.940</td>\n",
       "      <td>3874437</td>\n",
       "      <td>357114</td>\n",
       "      <td>0.916</td>\n",
       "      <td>Europe</td>\n",
       "    </tr>\n",
       "    <tr>\n",
       "      <th>Italy</th>\n",
       "      <td>60.665</td>\n",
       "      <td>2167744</td>\n",
       "      <td>301336</td>\n",
       "      <td>0.873</td>\n",
       "      <td>Europe</td>\n",
       "    </tr>\n",
       "    <tr>\n",
       "      <th>Japan</th>\n",
       "      <td>127.061</td>\n",
       "      <td>4602367</td>\n",
       "      <td>377930</td>\n",
       "      <td>0.891</td>\n",
       "      <td>Asia</td>\n",
       "    </tr>\n",
       "    <tr>\n",
       "      <th>UK</th>\n",
       "      <td>64.511</td>\n",
       "      <td>2950039</td>\n",
       "      <td>242495</td>\n",
       "      <td>0.907</td>\n",
       "      <td>Europe</td>\n",
       "    </tr>\n",
       "    <tr>\n",
       "      <th>US</th>\n",
       "      <td>318.523</td>\n",
       "      <td>17348075</td>\n",
       "      <td>9525067</td>\n",
       "      <td>0.915</td>\n",
       "      <td>America</td>\n",
       "    </tr>\n",
       "  </tbody>\n",
       "</table>\n",
       "</div>"
      ],
      "text/plain": [
       "         Population       GDP  Surface Area    HDI Continent\n",
       "France       63.951   2833687        640679  0.888    Europe\n",
       "Germany      80.940   3874437        357114  0.916    Europe\n",
       "Italy        60.665   2167744        301336  0.873    Europe\n",
       "Japan       127.061   4602367        377930  0.891      Asia\n",
       "UK           64.511   2950039        242495  0.907    Europe\n",
       "US          318.523  17348075       9525067  0.915   America"
      ]
     },
     "execution_count": 50,
     "metadata": {},
     "output_type": "execute_result"
    }
   ],
   "source": [
    "# Dropping Stuff\n",
    "df.drop('Canada')"
   ]
  },
  {
   "cell_type": "code",
   "execution_count": 53,
   "id": "precious-archive",
   "metadata": {},
   "outputs": [
    {
     "data": {
      "text/html": [
       "<div>\n",
       "<style scoped>\n",
       "    .dataframe tbody tr th:only-of-type {\n",
       "        vertical-align: middle;\n",
       "    }\n",
       "\n",
       "    .dataframe tbody tr th {\n",
       "        vertical-align: top;\n",
       "    }\n",
       "\n",
       "    .dataframe thead th {\n",
       "        text-align: right;\n",
       "    }\n",
       "</style>\n",
       "<table border=\"1\" class=\"dataframe\">\n",
       "  <thead>\n",
       "    <tr style=\"text-align: right;\">\n",
       "      <th></th>\n",
       "      <th>Population</th>\n",
       "      <th>GDP</th>\n",
       "      <th>Surface Area</th>\n",
       "      <th>HDI</th>\n",
       "      <th>Continent</th>\n",
       "    </tr>\n",
       "  </thead>\n",
       "  <tbody>\n",
       "    <tr>\n",
       "      <th>France</th>\n",
       "      <td>63.951</td>\n",
       "      <td>2833687</td>\n",
       "      <td>640679</td>\n",
       "      <td>0.888</td>\n",
       "      <td>Europe</td>\n",
       "    </tr>\n",
       "    <tr>\n",
       "      <th>Germany</th>\n",
       "      <td>80.940</td>\n",
       "      <td>3874437</td>\n",
       "      <td>357114</td>\n",
       "      <td>0.916</td>\n",
       "      <td>Europe</td>\n",
       "    </tr>\n",
       "    <tr>\n",
       "      <th>Italy</th>\n",
       "      <td>60.665</td>\n",
       "      <td>2167744</td>\n",
       "      <td>301336</td>\n",
       "      <td>0.873</td>\n",
       "      <td>Europe</td>\n",
       "    </tr>\n",
       "    <tr>\n",
       "      <th>UK</th>\n",
       "      <td>64.511</td>\n",
       "      <td>2950039</td>\n",
       "      <td>242495</td>\n",
       "      <td>0.907</td>\n",
       "      <td>Europe</td>\n",
       "    </tr>\n",
       "    <tr>\n",
       "      <th>US</th>\n",
       "      <td>318.523</td>\n",
       "      <td>17348075</td>\n",
       "      <td>9525067</td>\n",
       "      <td>0.915</td>\n",
       "      <td>America</td>\n",
       "    </tr>\n",
       "  </tbody>\n",
       "</table>\n",
       "</div>"
      ],
      "text/plain": [
       "         Population       GDP  Surface Area    HDI Continent\n",
       "France       63.951   2833687        640679  0.888    Europe\n",
       "Germany      80.940   3874437        357114  0.916    Europe\n",
       "Italy        60.665   2167744        301336  0.873    Europe\n",
       "UK           64.511   2950039        242495  0.907    Europe\n",
       "US          318.523  17348075       9525067  0.915   America"
      ]
     },
     "execution_count": 53,
     "metadata": {},
     "output_type": "execute_result"
    }
   ],
   "source": [
    "df.drop(['Canada', 'Japan'])"
   ]
  },
  {
   "cell_type": "code",
   "execution_count": 54,
   "id": "minor-papua",
   "metadata": {},
   "outputs": [
    {
     "data": {
      "text/html": [
       "<div>\n",
       "<style scoped>\n",
       "    .dataframe tbody tr th:only-of-type {\n",
       "        vertical-align: middle;\n",
       "    }\n",
       "\n",
       "    .dataframe tbody tr th {\n",
       "        vertical-align: top;\n",
       "    }\n",
       "\n",
       "    .dataframe thead th {\n",
       "        text-align: right;\n",
       "    }\n",
       "</style>\n",
       "<table border=\"1\" class=\"dataframe\">\n",
       "  <thead>\n",
       "    <tr style=\"text-align: right;\">\n",
       "      <th></th>\n",
       "      <th>GDP</th>\n",
       "      <th>Surface Area</th>\n",
       "      <th>Continent</th>\n",
       "    </tr>\n",
       "  </thead>\n",
       "  <tbody>\n",
       "    <tr>\n",
       "      <th>Canada</th>\n",
       "      <td>1785387</td>\n",
       "      <td>9984670</td>\n",
       "      <td>America</td>\n",
       "    </tr>\n",
       "    <tr>\n",
       "      <th>France</th>\n",
       "      <td>2833687</td>\n",
       "      <td>640679</td>\n",
       "      <td>Europe</td>\n",
       "    </tr>\n",
       "    <tr>\n",
       "      <th>Germany</th>\n",
       "      <td>3874437</td>\n",
       "      <td>357114</td>\n",
       "      <td>Europe</td>\n",
       "    </tr>\n",
       "    <tr>\n",
       "      <th>Italy</th>\n",
       "      <td>2167744</td>\n",
       "      <td>301336</td>\n",
       "      <td>Europe</td>\n",
       "    </tr>\n",
       "    <tr>\n",
       "      <th>Japan</th>\n",
       "      <td>4602367</td>\n",
       "      <td>377930</td>\n",
       "      <td>Asia</td>\n",
       "    </tr>\n",
       "    <tr>\n",
       "      <th>UK</th>\n",
       "      <td>2950039</td>\n",
       "      <td>242495</td>\n",
       "      <td>Europe</td>\n",
       "    </tr>\n",
       "    <tr>\n",
       "      <th>US</th>\n",
       "      <td>17348075</td>\n",
       "      <td>9525067</td>\n",
       "      <td>America</td>\n",
       "    </tr>\n",
       "  </tbody>\n",
       "</table>\n",
       "</div>"
      ],
      "text/plain": [
       "              GDP  Surface Area Continent\n",
       "Canada    1785387       9984670   America\n",
       "France    2833687        640679    Europe\n",
       "Germany   3874437        357114    Europe\n",
       "Italy     2167744        301336    Europe\n",
       "Japan     4602367        377930      Asia\n",
       "UK        2950039        242495    Europe\n",
       "US       17348075       9525067   America"
      ]
     },
     "execution_count": 54,
     "metadata": {},
     "output_type": "execute_result"
    }
   ],
   "source": [
    "df.drop(columns=['Population', 'HDI'])"
   ]
  },
  {
   "cell_type": "code",
   "execution_count": 56,
   "id": "working-stomach",
   "metadata": {},
   "outputs": [
    {
     "data": {
      "text/html": [
       "<div>\n",
       "<style scoped>\n",
       "    .dataframe tbody tr th:only-of-type {\n",
       "        vertical-align: middle;\n",
       "    }\n",
       "\n",
       "    .dataframe tbody tr th {\n",
       "        vertical-align: top;\n",
       "    }\n",
       "\n",
       "    .dataframe thead th {\n",
       "        text-align: right;\n",
       "    }\n",
       "</style>\n",
       "<table border=\"1\" class=\"dataframe\">\n",
       "  <thead>\n",
       "    <tr style=\"text-align: right;\">\n",
       "      <th></th>\n",
       "      <th>Population</th>\n",
       "      <th>GDP</th>\n",
       "      <th>Surface Area</th>\n",
       "      <th>HDI</th>\n",
       "      <th>Continent</th>\n",
       "    </tr>\n",
       "  </thead>\n",
       "  <tbody>\n",
       "    <tr>\n",
       "      <th>Canada</th>\n",
       "      <td>35.467</td>\n",
       "      <td>1785387</td>\n",
       "      <td>9984670</td>\n",
       "      <td>0.913</td>\n",
       "      <td>America</td>\n",
       "    </tr>\n",
       "    <tr>\n",
       "      <th>France</th>\n",
       "      <td>63.951</td>\n",
       "      <td>2833687</td>\n",
       "      <td>640679</td>\n",
       "      <td>0.888</td>\n",
       "      <td>Europe</td>\n",
       "    </tr>\n",
       "    <tr>\n",
       "      <th>Germany</th>\n",
       "      <td>80.940</td>\n",
       "      <td>3874437</td>\n",
       "      <td>357114</td>\n",
       "      <td>0.916</td>\n",
       "      <td>Europe</td>\n",
       "    </tr>\n",
       "    <tr>\n",
       "      <th>Italy</th>\n",
       "      <td>60.665</td>\n",
       "      <td>2167744</td>\n",
       "      <td>301336</td>\n",
       "      <td>0.873</td>\n",
       "      <td>Europe</td>\n",
       "    </tr>\n",
       "    <tr>\n",
       "      <th>Japan</th>\n",
       "      <td>127.061</td>\n",
       "      <td>4602367</td>\n",
       "      <td>377930</td>\n",
       "      <td>0.891</td>\n",
       "      <td>Asia</td>\n",
       "    </tr>\n",
       "    <tr>\n",
       "      <th>UK</th>\n",
       "      <td>64.511</td>\n",
       "      <td>2950039</td>\n",
       "      <td>242495</td>\n",
       "      <td>0.907</td>\n",
       "      <td>Europe</td>\n",
       "    </tr>\n",
       "    <tr>\n",
       "      <th>US</th>\n",
       "      <td>318.523</td>\n",
       "      <td>17348075</td>\n",
       "      <td>9525067</td>\n",
       "      <td>0.915</td>\n",
       "      <td>America</td>\n",
       "    </tr>\n",
       "  </tbody>\n",
       "</table>\n",
       "</div>"
      ],
      "text/plain": [
       "         Population       GDP  Surface Area    HDI Continent\n",
       "Canada       35.467   1785387       9984670  0.913   America\n",
       "France       63.951   2833687        640679  0.888    Europe\n",
       "Germany      80.940   3874437        357114  0.916    Europe\n",
       "Italy        60.665   2167744        301336  0.873    Europe\n",
       "Japan       127.061   4602367        377930  0.891      Asia\n",
       "UK           64.511   2950039        242495  0.907    Europe\n",
       "US          318.523  17348075       9525067  0.915   America"
      ]
     },
     "execution_count": 56,
     "metadata": {},
     "output_type": "execute_result"
    }
   ],
   "source": [
    "df"
   ]
  },
  {
   "cell_type": "code",
   "execution_count": 57,
   "id": "soviet-county",
   "metadata": {},
   "outputs": [
    {
     "data": {
      "text/html": [
       "<div>\n",
       "<style scoped>\n",
       "    .dataframe tbody tr th:only-of-type {\n",
       "        vertical-align: middle;\n",
       "    }\n",
       "\n",
       "    .dataframe tbody tr th {\n",
       "        vertical-align: top;\n",
       "    }\n",
       "\n",
       "    .dataframe thead th {\n",
       "        text-align: right;\n",
       "    }\n",
       "</style>\n",
       "<table border=\"1\" class=\"dataframe\">\n",
       "  <thead>\n",
       "    <tr style=\"text-align: right;\">\n",
       "      <th></th>\n",
       "      <th>Population</th>\n",
       "      <th>GDP</th>\n",
       "      <th>Surface Area</th>\n",
       "      <th>HDI</th>\n",
       "      <th>Continent</th>\n",
       "    </tr>\n",
       "  </thead>\n",
       "  <tbody>\n",
       "    <tr>\n",
       "      <th>France</th>\n",
       "      <td>63.951</td>\n",
       "      <td>2833687</td>\n",
       "      <td>640679</td>\n",
       "      <td>0.888</td>\n",
       "      <td>Europe</td>\n",
       "    </tr>\n",
       "    <tr>\n",
       "      <th>Germany</th>\n",
       "      <td>80.940</td>\n",
       "      <td>3874437</td>\n",
       "      <td>357114</td>\n",
       "      <td>0.916</td>\n",
       "      <td>Europe</td>\n",
       "    </tr>\n",
       "    <tr>\n",
       "      <th>Japan</th>\n",
       "      <td>127.061</td>\n",
       "      <td>4602367</td>\n",
       "      <td>377930</td>\n",
       "      <td>0.891</td>\n",
       "      <td>Asia</td>\n",
       "    </tr>\n",
       "    <tr>\n",
       "      <th>UK</th>\n",
       "      <td>64.511</td>\n",
       "      <td>2950039</td>\n",
       "      <td>242495</td>\n",
       "      <td>0.907</td>\n",
       "      <td>Europe</td>\n",
       "    </tr>\n",
       "    <tr>\n",
       "      <th>US</th>\n",
       "      <td>318.523</td>\n",
       "      <td>17348075</td>\n",
       "      <td>9525067</td>\n",
       "      <td>0.915</td>\n",
       "      <td>America</td>\n",
       "    </tr>\n",
       "  </tbody>\n",
       "</table>\n",
       "</div>"
      ],
      "text/plain": [
       "         Population       GDP  Surface Area    HDI Continent\n",
       "France       63.951   2833687        640679  0.888    Europe\n",
       "Germany      80.940   3874437        357114  0.916    Europe\n",
       "Japan       127.061   4602367        377930  0.891      Asia\n",
       "UK           64.511   2950039        242495  0.907    Europe\n",
       "US          318.523  17348075       9525067  0.915   America"
      ]
     },
     "execution_count": 57,
     "metadata": {},
     "output_type": "execute_result"
    }
   ],
   "source": [
    "df.drop(['Italy', 'Canada'], axis=0)"
   ]
  },
  {
   "cell_type": "code",
   "execution_count": 59,
   "id": "vocal-twist",
   "metadata": {},
   "outputs": [
    {
     "data": {
      "text/html": [
       "<div>\n",
       "<style scoped>\n",
       "    .dataframe tbody tr th:only-of-type {\n",
       "        vertical-align: middle;\n",
       "    }\n",
       "\n",
       "    .dataframe tbody tr th {\n",
       "        vertical-align: top;\n",
       "    }\n",
       "\n",
       "    .dataframe thead th {\n",
       "        text-align: right;\n",
       "    }\n",
       "</style>\n",
       "<table border=\"1\" class=\"dataframe\">\n",
       "  <thead>\n",
       "    <tr style=\"text-align: right;\">\n",
       "      <th></th>\n",
       "      <th>GDP</th>\n",
       "      <th>Surface Area</th>\n",
       "      <th>Continent</th>\n",
       "    </tr>\n",
       "  </thead>\n",
       "  <tbody>\n",
       "    <tr>\n",
       "      <th>Canada</th>\n",
       "      <td>1785387</td>\n",
       "      <td>9984670</td>\n",
       "      <td>America</td>\n",
       "    </tr>\n",
       "    <tr>\n",
       "      <th>France</th>\n",
       "      <td>2833687</td>\n",
       "      <td>640679</td>\n",
       "      <td>Europe</td>\n",
       "    </tr>\n",
       "    <tr>\n",
       "      <th>Germany</th>\n",
       "      <td>3874437</td>\n",
       "      <td>357114</td>\n",
       "      <td>Europe</td>\n",
       "    </tr>\n",
       "    <tr>\n",
       "      <th>Italy</th>\n",
       "      <td>2167744</td>\n",
       "      <td>301336</td>\n",
       "      <td>Europe</td>\n",
       "    </tr>\n",
       "    <tr>\n",
       "      <th>Japan</th>\n",
       "      <td>4602367</td>\n",
       "      <td>377930</td>\n",
       "      <td>Asia</td>\n",
       "    </tr>\n",
       "    <tr>\n",
       "      <th>UK</th>\n",
       "      <td>2950039</td>\n",
       "      <td>242495</td>\n",
       "      <td>Europe</td>\n",
       "    </tr>\n",
       "    <tr>\n",
       "      <th>US</th>\n",
       "      <td>17348075</td>\n",
       "      <td>9525067</td>\n",
       "      <td>America</td>\n",
       "    </tr>\n",
       "  </tbody>\n",
       "</table>\n",
       "</div>"
      ],
      "text/plain": [
       "              GDP  Surface Area Continent\n",
       "Canada    1785387       9984670   America\n",
       "France    2833687        640679    Europe\n",
       "Germany   3874437        357114    Europe\n",
       "Italy     2167744        301336    Europe\n",
       "Japan     4602367        377930      Asia\n",
       "UK        2950039        242495    Europe\n",
       "US       17348075       9525067   America"
      ]
     },
     "execution_count": 59,
     "metadata": {},
     "output_type": "execute_result"
    }
   ],
   "source": [
    "df.drop(['Population', 'HDI'], axis=1)"
   ]
  },
  {
   "cell_type": "code",
   "execution_count": 60,
   "id": "tested-manual",
   "metadata": {},
   "outputs": [
    {
     "data": {
      "text/html": [
       "<div>\n",
       "<style scoped>\n",
       "    .dataframe tbody tr th:only-of-type {\n",
       "        vertical-align: middle;\n",
       "    }\n",
       "\n",
       "    .dataframe tbody tr th {\n",
       "        vertical-align: top;\n",
       "    }\n",
       "\n",
       "    .dataframe thead th {\n",
       "        text-align: right;\n",
       "    }\n",
       "</style>\n",
       "<table border=\"1\" class=\"dataframe\">\n",
       "  <thead>\n",
       "    <tr style=\"text-align: right;\">\n",
       "      <th></th>\n",
       "      <th>GDP</th>\n",
       "      <th>Surface Area</th>\n",
       "      <th>Continent</th>\n",
       "    </tr>\n",
       "  </thead>\n",
       "  <tbody>\n",
       "    <tr>\n",
       "      <th>Canada</th>\n",
       "      <td>1785387</td>\n",
       "      <td>9984670</td>\n",
       "      <td>America</td>\n",
       "    </tr>\n",
       "    <tr>\n",
       "      <th>France</th>\n",
       "      <td>2833687</td>\n",
       "      <td>640679</td>\n",
       "      <td>Europe</td>\n",
       "    </tr>\n",
       "    <tr>\n",
       "      <th>Germany</th>\n",
       "      <td>3874437</td>\n",
       "      <td>357114</td>\n",
       "      <td>Europe</td>\n",
       "    </tr>\n",
       "    <tr>\n",
       "      <th>Italy</th>\n",
       "      <td>2167744</td>\n",
       "      <td>301336</td>\n",
       "      <td>Europe</td>\n",
       "    </tr>\n",
       "    <tr>\n",
       "      <th>Japan</th>\n",
       "      <td>4602367</td>\n",
       "      <td>377930</td>\n",
       "      <td>Asia</td>\n",
       "    </tr>\n",
       "    <tr>\n",
       "      <th>UK</th>\n",
       "      <td>2950039</td>\n",
       "      <td>242495</td>\n",
       "      <td>Europe</td>\n",
       "    </tr>\n",
       "    <tr>\n",
       "      <th>US</th>\n",
       "      <td>17348075</td>\n",
       "      <td>9525067</td>\n",
       "      <td>America</td>\n",
       "    </tr>\n",
       "  </tbody>\n",
       "</table>\n",
       "</div>"
      ],
      "text/plain": [
       "              GDP  Surface Area Continent\n",
       "Canada    1785387       9984670   America\n",
       "France    2833687        640679    Europe\n",
       "Germany   3874437        357114    Europe\n",
       "Italy     2167744        301336    Europe\n",
       "Japan     4602367        377930      Asia\n",
       "UK        2950039        242495    Europe\n",
       "US       17348075       9525067   America"
      ]
     },
     "execution_count": 60,
     "metadata": {},
     "output_type": "execute_result"
    }
   ],
   "source": [
    "df.drop(['Population', 'HDI'], axis='columns')"
   ]
  },
  {
   "cell_type": "code",
   "execution_count": 61,
   "id": "heated-arena",
   "metadata": {},
   "outputs": [
    {
     "data": {
      "text/html": [
       "<div>\n",
       "<style scoped>\n",
       "    .dataframe tbody tr th:only-of-type {\n",
       "        vertical-align: middle;\n",
       "    }\n",
       "\n",
       "    .dataframe tbody tr th {\n",
       "        vertical-align: top;\n",
       "    }\n",
       "\n",
       "    .dataframe thead th {\n",
       "        text-align: right;\n",
       "    }\n",
       "</style>\n",
       "<table border=\"1\" class=\"dataframe\">\n",
       "  <thead>\n",
       "    <tr style=\"text-align: right;\">\n",
       "      <th></th>\n",
       "      <th>Population</th>\n",
       "      <th>GDP</th>\n",
       "      <th>Surface Area</th>\n",
       "      <th>HDI</th>\n",
       "      <th>Continent</th>\n",
       "    </tr>\n",
       "  </thead>\n",
       "  <tbody>\n",
       "    <tr>\n",
       "      <th>France</th>\n",
       "      <td>63.951</td>\n",
       "      <td>2833687</td>\n",
       "      <td>640679</td>\n",
       "      <td>0.888</td>\n",
       "      <td>Europe</td>\n",
       "    </tr>\n",
       "    <tr>\n",
       "      <th>Italy</th>\n",
       "      <td>60.665</td>\n",
       "      <td>2167744</td>\n",
       "      <td>301336</td>\n",
       "      <td>0.873</td>\n",
       "      <td>Europe</td>\n",
       "    </tr>\n",
       "    <tr>\n",
       "      <th>Japan</th>\n",
       "      <td>127.061</td>\n",
       "      <td>4602367</td>\n",
       "      <td>377930</td>\n",
       "      <td>0.891</td>\n",
       "      <td>Asia</td>\n",
       "    </tr>\n",
       "    <tr>\n",
       "      <th>UK</th>\n",
       "      <td>64.511</td>\n",
       "      <td>2950039</td>\n",
       "      <td>242495</td>\n",
       "      <td>0.907</td>\n",
       "      <td>Europe</td>\n",
       "    </tr>\n",
       "    <tr>\n",
       "      <th>US</th>\n",
       "      <td>318.523</td>\n",
       "      <td>17348075</td>\n",
       "      <td>9525067</td>\n",
       "      <td>0.915</td>\n",
       "      <td>America</td>\n",
       "    </tr>\n",
       "  </tbody>\n",
       "</table>\n",
       "</div>"
      ],
      "text/plain": [
       "        Population       GDP  Surface Area    HDI Continent\n",
       "France      63.951   2833687        640679  0.888    Europe\n",
       "Italy       60.665   2167744        301336  0.873    Europe\n",
       "Japan      127.061   4602367        377930  0.891      Asia\n",
       "UK          64.511   2950039        242495  0.907    Europe\n",
       "US         318.523  17348075       9525067  0.915   America"
      ]
     },
     "execution_count": 61,
     "metadata": {},
     "output_type": "execute_result"
    }
   ],
   "source": [
    "df.drop(['Canada', 'Germany'], axis='rows')"
   ]
  },
  {
   "cell_type": "code",
   "execution_count": null,
   "id": "musical-illustration",
   "metadata": {},
   "outputs": [],
   "source": []
  },
  {
   "cell_type": "code",
   "execution_count": null,
   "id": "collectible-angola",
   "metadata": {},
   "outputs": [],
   "source": [
    "# Operations"
   ]
  },
  {
   "cell_type": "code",
   "execution_count": 62,
   "id": "devoted-universal",
   "metadata": {},
   "outputs": [
    {
     "data": {
      "text/html": [
       "<div>\n",
       "<style scoped>\n",
       "    .dataframe tbody tr th:only-of-type {\n",
       "        vertical-align: middle;\n",
       "    }\n",
       "\n",
       "    .dataframe tbody tr th {\n",
       "        vertical-align: top;\n",
       "    }\n",
       "\n",
       "    .dataframe thead th {\n",
       "        text-align: right;\n",
       "    }\n",
       "</style>\n",
       "<table border=\"1\" class=\"dataframe\">\n",
       "  <thead>\n",
       "    <tr style=\"text-align: right;\">\n",
       "      <th></th>\n",
       "      <th>Population</th>\n",
       "      <th>GDP</th>\n",
       "    </tr>\n",
       "  </thead>\n",
       "  <tbody>\n",
       "    <tr>\n",
       "      <th>Canada</th>\n",
       "      <td>35.467</td>\n",
       "      <td>1785387</td>\n",
       "    </tr>\n",
       "    <tr>\n",
       "      <th>France</th>\n",
       "      <td>63.951</td>\n",
       "      <td>2833687</td>\n",
       "    </tr>\n",
       "    <tr>\n",
       "      <th>Germany</th>\n",
       "      <td>80.940</td>\n",
       "      <td>3874437</td>\n",
       "    </tr>\n",
       "    <tr>\n",
       "      <th>Italy</th>\n",
       "      <td>60.665</td>\n",
       "      <td>2167744</td>\n",
       "    </tr>\n",
       "    <tr>\n",
       "      <th>Japan</th>\n",
       "      <td>127.061</td>\n",
       "      <td>4602367</td>\n",
       "    </tr>\n",
       "    <tr>\n",
       "      <th>UK</th>\n",
       "      <td>64.511</td>\n",
       "      <td>2950039</td>\n",
       "    </tr>\n",
       "    <tr>\n",
       "      <th>US</th>\n",
       "      <td>318.523</td>\n",
       "      <td>17348075</td>\n",
       "    </tr>\n",
       "  </tbody>\n",
       "</table>\n",
       "</div>"
      ],
      "text/plain": [
       "         Population       GDP\n",
       "Canada       35.467   1785387\n",
       "France       63.951   2833687\n",
       "Germany      80.940   3874437\n",
       "Italy        60.665   2167744\n",
       "Japan       127.061   4602367\n",
       "UK           64.511   2950039\n",
       "US          318.523  17348075"
      ]
     },
     "execution_count": 62,
     "metadata": {},
     "output_type": "execute_result"
    }
   ],
   "source": [
    "df[['Population', 'GDP']]"
   ]
  },
  {
   "cell_type": "code",
   "execution_count": 63,
   "id": "every-glossary",
   "metadata": {},
   "outputs": [
    {
     "data": {
      "text/html": [
       "<div>\n",
       "<style scoped>\n",
       "    .dataframe tbody tr th:only-of-type {\n",
       "        vertical-align: middle;\n",
       "    }\n",
       "\n",
       "    .dataframe tbody tr th {\n",
       "        vertical-align: top;\n",
       "    }\n",
       "\n",
       "    .dataframe thead th {\n",
       "        text-align: right;\n",
       "    }\n",
       "</style>\n",
       "<table border=\"1\" class=\"dataframe\">\n",
       "  <thead>\n",
       "    <tr style=\"text-align: right;\">\n",
       "      <th></th>\n",
       "      <th>Population</th>\n",
       "      <th>GDP</th>\n",
       "    </tr>\n",
       "  </thead>\n",
       "  <tbody>\n",
       "    <tr>\n",
       "      <th>Canada</th>\n",
       "      <td>0.35467</td>\n",
       "      <td>17853.87</td>\n",
       "    </tr>\n",
       "    <tr>\n",
       "      <th>France</th>\n",
       "      <td>0.63951</td>\n",
       "      <td>28336.87</td>\n",
       "    </tr>\n",
       "    <tr>\n",
       "      <th>Germany</th>\n",
       "      <td>0.80940</td>\n",
       "      <td>38744.37</td>\n",
       "    </tr>\n",
       "    <tr>\n",
       "      <th>Italy</th>\n",
       "      <td>0.60665</td>\n",
       "      <td>21677.44</td>\n",
       "    </tr>\n",
       "    <tr>\n",
       "      <th>Japan</th>\n",
       "      <td>1.27061</td>\n",
       "      <td>46023.67</td>\n",
       "    </tr>\n",
       "    <tr>\n",
       "      <th>UK</th>\n",
       "      <td>0.64511</td>\n",
       "      <td>29500.39</td>\n",
       "    </tr>\n",
       "    <tr>\n",
       "      <th>US</th>\n",
       "      <td>3.18523</td>\n",
       "      <td>173480.75</td>\n",
       "    </tr>\n",
       "  </tbody>\n",
       "</table>\n",
       "</div>"
      ],
      "text/plain": [
       "         Population        GDP\n",
       "Canada      0.35467   17853.87\n",
       "France      0.63951   28336.87\n",
       "Germany     0.80940   38744.37\n",
       "Italy       0.60665   21677.44\n",
       "Japan       1.27061   46023.67\n",
       "UK          0.64511   29500.39\n",
       "US          3.18523  173480.75"
      ]
     },
     "execution_count": 63,
     "metadata": {},
     "output_type": "execute_result"
    }
   ],
   "source": [
    "df[['Population', 'GDP']] / 100"
   ]
  },
  {
   "cell_type": "code",
   "execution_count": 65,
   "id": "human-cause",
   "metadata": {},
   "outputs": [
    {
     "data": {
      "text/plain": [
       "GDP   -1000000.0\n",
       "HDI         -0.3\n",
       "dtype: float64"
      ]
     },
     "execution_count": 65,
     "metadata": {},
     "output_type": "execute_result"
    }
   ],
   "source": [
    "crisis = pd.Series([-1_000_000, -0.3], index=['GDP', 'HDI'])\n",
    "crisis"
   ]
  },
  {
   "cell_type": "code",
   "execution_count": 66,
   "id": "cheap-painting",
   "metadata": {},
   "outputs": [
    {
     "data": {
      "text/html": [
       "<div>\n",
       "<style scoped>\n",
       "    .dataframe tbody tr th:only-of-type {\n",
       "        vertical-align: middle;\n",
       "    }\n",
       "\n",
       "    .dataframe tbody tr th {\n",
       "        vertical-align: top;\n",
       "    }\n",
       "\n",
       "    .dataframe thead th {\n",
       "        text-align: right;\n",
       "    }\n",
       "</style>\n",
       "<table border=\"1\" class=\"dataframe\">\n",
       "  <thead>\n",
       "    <tr style=\"text-align: right;\">\n",
       "      <th></th>\n",
       "      <th>GDP</th>\n",
       "      <th>HDI</th>\n",
       "    </tr>\n",
       "  </thead>\n",
       "  <tbody>\n",
       "    <tr>\n",
       "      <th>Canada</th>\n",
       "      <td>1785387</td>\n",
       "      <td>0.913</td>\n",
       "    </tr>\n",
       "    <tr>\n",
       "      <th>France</th>\n",
       "      <td>2833687</td>\n",
       "      <td>0.888</td>\n",
       "    </tr>\n",
       "    <tr>\n",
       "      <th>Germany</th>\n",
       "      <td>3874437</td>\n",
       "      <td>0.916</td>\n",
       "    </tr>\n",
       "    <tr>\n",
       "      <th>Italy</th>\n",
       "      <td>2167744</td>\n",
       "      <td>0.873</td>\n",
       "    </tr>\n",
       "    <tr>\n",
       "      <th>Japan</th>\n",
       "      <td>4602367</td>\n",
       "      <td>0.891</td>\n",
       "    </tr>\n",
       "    <tr>\n",
       "      <th>UK</th>\n",
       "      <td>2950039</td>\n",
       "      <td>0.907</td>\n",
       "    </tr>\n",
       "    <tr>\n",
       "      <th>US</th>\n",
       "      <td>17348075</td>\n",
       "      <td>0.915</td>\n",
       "    </tr>\n",
       "  </tbody>\n",
       "</table>\n",
       "</div>"
      ],
      "text/plain": [
       "              GDP    HDI\n",
       "Canada    1785387  0.913\n",
       "France    2833687  0.888\n",
       "Germany   3874437  0.916\n",
       "Italy     2167744  0.873\n",
       "Japan     4602367  0.891\n",
       "UK        2950039  0.907\n",
       "US       17348075  0.915"
      ]
     },
     "execution_count": 66,
     "metadata": {},
     "output_type": "execute_result"
    }
   ],
   "source": [
    "df[['GDP', 'HDI']]"
   ]
  },
  {
   "cell_type": "code",
   "execution_count": 67,
   "id": "lightweight-christmas",
   "metadata": {},
   "outputs": [
    {
     "data": {
      "text/html": [
       "<div>\n",
       "<style scoped>\n",
       "    .dataframe tbody tr th:only-of-type {\n",
       "        vertical-align: middle;\n",
       "    }\n",
       "\n",
       "    .dataframe tbody tr th {\n",
       "        vertical-align: top;\n",
       "    }\n",
       "\n",
       "    .dataframe thead th {\n",
       "        text-align: right;\n",
       "    }\n",
       "</style>\n",
       "<table border=\"1\" class=\"dataframe\">\n",
       "  <thead>\n",
       "    <tr style=\"text-align: right;\">\n",
       "      <th></th>\n",
       "      <th>GDP</th>\n",
       "      <th>HDI</th>\n",
       "    </tr>\n",
       "  </thead>\n",
       "  <tbody>\n",
       "    <tr>\n",
       "      <th>Canada</th>\n",
       "      <td>785387.0</td>\n",
       "      <td>0.613</td>\n",
       "    </tr>\n",
       "    <tr>\n",
       "      <th>France</th>\n",
       "      <td>1833687.0</td>\n",
       "      <td>0.588</td>\n",
       "    </tr>\n",
       "    <tr>\n",
       "      <th>Germany</th>\n",
       "      <td>2874437.0</td>\n",
       "      <td>0.616</td>\n",
       "    </tr>\n",
       "    <tr>\n",
       "      <th>Italy</th>\n",
       "      <td>1167744.0</td>\n",
       "      <td>0.573</td>\n",
       "    </tr>\n",
       "    <tr>\n",
       "      <th>Japan</th>\n",
       "      <td>3602367.0</td>\n",
       "      <td>0.591</td>\n",
       "    </tr>\n",
       "    <tr>\n",
       "      <th>UK</th>\n",
       "      <td>1950039.0</td>\n",
       "      <td>0.607</td>\n",
       "    </tr>\n",
       "    <tr>\n",
       "      <th>US</th>\n",
       "      <td>16348075.0</td>\n",
       "      <td>0.615</td>\n",
       "    </tr>\n",
       "  </tbody>\n",
       "</table>\n",
       "</div>"
      ],
      "text/plain": [
       "                GDP    HDI\n",
       "Canada     785387.0  0.613\n",
       "France    1833687.0  0.588\n",
       "Germany   2874437.0  0.616\n",
       "Italy     1167744.0  0.573\n",
       "Japan     3602367.0  0.591\n",
       "UK        1950039.0  0.607\n",
       "US       16348075.0  0.615"
      ]
     },
     "execution_count": 67,
     "metadata": {},
     "output_type": "execute_result"
    }
   ],
   "source": [
    "df[['GDP', 'HDI']] + crisis"
   ]
  },
  {
   "cell_type": "code",
   "execution_count": null,
   "id": "satisfied-sustainability",
   "metadata": {},
   "outputs": [],
   "source": []
  },
  {
   "cell_type": "code",
   "execution_count": null,
   "id": "infectious-voluntary",
   "metadata": {},
   "outputs": [],
   "source": [
    "# Modifying DataFrames"
   ]
  },
  {
   "cell_type": "code",
   "execution_count": null,
   "id": "concrete-mills",
   "metadata": {},
   "outputs": [],
   "source": []
  },
  {
   "cell_type": "code",
   "execution_count": null,
   "id": "constant-theory",
   "metadata": {},
   "outputs": [],
   "source": []
  },
  {
   "cell_type": "code",
   "execution_count": null,
   "id": "curious-attention",
   "metadata": {},
   "outputs": [],
   "source": []
  },
  {
   "cell_type": "code",
   "execution_count": null,
   "id": "robust-playlist",
   "metadata": {},
   "outputs": [],
   "source": []
  },
  {
   "cell_type": "code",
   "execution_count": null,
   "id": "rapid-morgan",
   "metadata": {},
   "outputs": [],
   "source": []
  },
  {
   "cell_type": "code",
   "execution_count": null,
   "id": "structural-genius",
   "metadata": {},
   "outputs": [],
   "source": []
  },
  {
   "cell_type": "code",
   "execution_count": null,
   "id": "classified-dressing",
   "metadata": {},
   "outputs": [],
   "source": []
  },
  {
   "cell_type": "code",
   "execution_count": null,
   "id": "expressed-provision",
   "metadata": {},
   "outputs": [],
   "source": []
  },
  {
   "cell_type": "code",
   "execution_count": null,
   "id": "powerful-replica",
   "metadata": {},
   "outputs": [],
   "source": []
  },
  {
   "cell_type": "code",
   "execution_count": null,
   "id": "transsexual-scenario",
   "metadata": {},
   "outputs": [],
   "source": []
  },
  {
   "cell_type": "code",
   "execution_count": null,
   "id": "chemical-framework",
   "metadata": {},
   "outputs": [],
   "source": []
  }
 ],
 "metadata": {
  "kernelspec": {
   "display_name": "Python 3",
   "language": "python",
   "name": "python3"
  },
  "language_info": {
   "codemirror_mode": {
    "name": "ipython",
    "version": 3
   },
   "file_extension": ".py",
   "mimetype": "text/x-python",
   "name": "python",
   "nbconvert_exporter": "python",
   "pygments_lexer": "ipython3",
   "version": "3.7.4"
  }
 },
 "nbformat": 4,
 "nbformat_minor": 5
}
